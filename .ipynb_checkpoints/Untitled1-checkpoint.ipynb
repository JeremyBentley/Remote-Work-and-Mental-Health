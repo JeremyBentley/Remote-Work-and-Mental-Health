{
 "cells": [
  {
   "cell_type": "code",
   "execution_count": null,
   "id": "5dd8bb35-63f4-4c2e-a03f-231a6ac91d1e",
   "metadata": {},
   "outputs": [],
   "source": [
    "pip install modin[all]"
   ]
  },
  {
   "cell_type": "code",
   "execution_count": null,
   "id": "675e909c-2ee2-4673-802e-f24f8e38869a",
   "metadata": {},
   "outputs": [],
   "source": [
    "import os\n",
    "#import pandas as pd\n",
    "import modin.pandas as pd\n",
    "#import matplotlib.pyplot as plt\n",
    "#import seaborn as sns\n",
    "#pd.set_option('max_colwidth',400)"
   ]
  },
  {
   "cell_type": "code",
   "execution_count": null,
   "id": "3e981ef9-68f4-41c2-bab6-c61ab50838d5",
   "metadata": {},
   "outputs": [],
   "source": [
    "\n",
    "#remote_data = pd.read_csv(\"./Resources/Impact_of_Remote_Work_on_Mental_Health.csv\")\n",
    "remote_data = pd.read_csv(\"C:/Users/nprab/OneDrive/Desktop/Remote-Work-and-Mental-Health/Resources/Resources/Impact_of_Remote_Work_on_Mental_Health.csv\")\n",
    "remote_data.head(10)"
   ]
  },
  {
   "cell_type": "code",
   "execution_count": null,
   "id": "91b5e9a9-f70a-4bdb-a62c-28a376fd90aa",
   "metadata": {},
   "outputs": [],
   "source": [
    "remote_data.tail()"
   ]
  },
  {
   "cell_type": "code",
   "execution_count": null,
   "id": "aea30830-fc91-4112-ae68-f1dceda3ebb1",
   "metadata": {},
   "outputs": [],
   "source": [
    "remote_data.shape"
   ]
  },
  {
   "cell_type": "code",
   "execution_count": null,
   "id": "af5860fc-c78b-40ba-b20c-fad14426457f",
   "metadata": {},
   "outputs": [],
   "source": [
    "remote_data.columns"
   ]
  },
  {
   "cell_type": "code",
   "execution_count": null,
   "id": "14a0d187-80a7-4b31-b9af-f29d698e0854",
   "metadata": {},
   "outputs": [],
   "source": [
    "remote_data.info()"
   ]
  },
  {
   "cell_type": "code",
   "execution_count": null,
   "id": "9cb94f43-54bb-4b67-bde0-dcf636698d41",
   "metadata": {},
   "outputs": [],
   "source": [
    "remote_data.describe()"
   ]
  },
  {
   "cell_type": "code",
   "execution_count": null,
   "id": "ad6d548c-7eb3-492b-a89b-1b5cf8c61f3e",
   "metadata": {},
   "outputs": [],
   "source": [
    "remote_data.duplicated().sum()"
   ]
  },
  {
   "cell_type": "code",
   "execution_count": null,
   "id": "621abf60-c24a-4ca8-ad0c-ac12bcba4c07",
   "metadata": {},
   "outputs": [],
   "source": [
    "remote_data.isnull().sum()"
   ]
  },
  {
   "cell_type": "code",
   "execution_count": null,
   "id": "3f9f65f7-66ad-4df1-8c42-3f02db0939ca",
   "metadata": {},
   "outputs": [],
   "source": [
    "#remote_data[['Mental_Health_Condition']] = remote_data[['Mental_Health_Condition']].fillna('Not Available')"
   ]
  },
  {
   "cell_type": "code",
   "execution_count": null,
   "id": "5a6d212d-1e61-49d6-ad4c-bc69344d2ea7",
   "metadata": {},
   "outputs": [],
   "source": [
    "remote_data.isnull().sum()"
   ]
  },
  {
   "cell_type": "code",
   "execution_count": null,
   "id": "0f154c5f-58c7-4c4e-97f9-2c2f0b1fd854",
   "metadata": {},
   "outputs": [],
   "source": [
    "#remote_data.drop(columns = ['Productivity_Change' , 'Physical_Activity'], axis = 1, inplace = True)"
   ]
  },
  {
   "cell_type": "code",
   "execution_count": null,
   "id": "3bc8b916-cf55-4bd1-abda-e201cd9f1001",
   "metadata": {},
   "outputs": [],
   "source": [
    "#remote_data.drop(remote_data[(remote_data['Mental_Health_Condition']= 'None')]"
   ]
  },
  {
   "cell_type": "code",
   "execution_count": null,
   "id": "b1db9fa5-d2f1-49a7-9a85-7c151c8e5524",
   "metadata": {},
   "outputs": [],
   "source": [
    "#remote_duplicates.duplicated().sum()"
   ]
  },
  {
   "cell_type": "code",
   "execution_count": null,
   "id": "f70a6ca6-0858-4045-8d57-8d6426e4e383",
   "metadata": {},
   "outputs": [],
   "source": [
    "#remote_duplicates.columns"
   ]
  },
  {
   "cell_type": "code",
   "execution_count": null,
   "id": "432dbc36-e91c-459a-b52b-da4a83405970",
   "metadata": {},
   "outputs": [],
   "source": [
    "#print(remote_data.columns)"
   ]
  },
  {
   "cell_type": "code",
   "execution_count": null,
   "id": "f8e4fc79-a804-4acf-8242-ab5cb6c4003f",
   "metadata": {},
   "outputs": [],
   "source": [
    "#remote_data.isnull().sum()"
   ]
  },
  {
   "cell_type": "code",
   "execution_count": null,
   "id": "1a31156e-36c5-4fc0-b52c-bf8eede7ca86",
   "metadata": {},
   "outputs": [],
   "source": [
    "count_by_job_role = remote_data.groupby('Job_Role')['Gender'].count().reset_index(name='Employee_Count')\n",
    "count_by_job_role"
   ]
  },
  {
   "cell_type": "code",
   "execution_count": null,
   "id": "6535bd64-57f2-4907-9e6a-60270b6ed69b",
   "metadata": {},
   "outputs": [],
   "source": [
    "print(remote_data.columns)\n"
   ]
  },
  {
   "cell_type": "code",
   "execution_count": null,
   "id": "e7947d21-c55c-4fca-a962-72356403444e",
   "metadata": {},
   "outputs": [],
   "source": [
    "# Group by region and count the stress levels\n",
    "#stress_count = remote_data.groupby(['Region', 'Stress_Level']).size()#.unstack(fill_value=0)\n",
    "#region_stress_count = remote_data.groupby(['Region', 'Stress_Level']).size().reset_index(name = 'Count')\n",
    "\n",
    "region_stress_count = remote_data.groupby('Region')['Stress_Level'].size().reset_index(name = 'Count')\n",
    "\n",
    "# # Finding the region with the highest stress level count\n",
    "# highest_stress_region = region_stress_count.loc[region_stress_count['Count'].idxmax()]\n",
    "# print(highest_stress_region)\n",
    "\n",
    "# Display the results\n",
    "#print(stress_count)\n",
    "\n",
    "region_stress_count"
   ]
  },
  {
   "cell_type": "code",
   "execution_count": null,
   "id": "c99c5216-beb5-4e60-b9b8-4a0bd40661ab",
   "metadata": {},
   "outputs": [],
   "source": [
    "region = pd.DataFrame(remote_data)\n",
    "stress_count = region.groupby(['Region','Stress_Level']).size().unstack(fill_value=0)\n",
    "#stress_count = remote_data.groupby(['Region', 'Stress_Level']).size().reset_index()\n",
    "#stress_count = remote_data.groupby(['Region', 'Stress_Level']).size().unstack(fill_value=0).reset_index()\n",
    "stress_count"
   ]
  },
  {
   "cell_type": "code",
   "execution_count": null,
   "id": "85415c02-f6d5-4410-a924-a8eb42aa78d7",
   "metadata": {},
   "outputs": [],
   "source": [
    "data = {\n",
    "    'Region': ['Africa', 'Asia', 'Europe', 'North America', \n",
    "               'Oceania', 'South America'],\n",
    "    'High': [310 , 252, 298, 256,  282 ,288],\n",
    "    'Low' :[282, 281, 261, 266, 291, 264],\n",
    "    'Medium' : [268, 296, 281, 255, 294, 275]    \n",
    "}\n",
    "region_stress = pd.DataFrame(data)\n",
    "region_stress\n",
    "#print(remote_data)"
   ]
  },
  {
   "cell_type": "code",
   "execution_count": null,
   "id": "47e20f9b-b7ba-49be-819e-7afb3b0d7642",
   "metadata": {},
   "outputs": [],
   "source": [
    "industry = pd.DataFrame(remote_data)\n",
    "industry_stress = industry.groupby(['Industry','Stress_Level']).size().reset_index(name = 'Count')\n",
    "#print(dept)\n",
    "industry_stress"
   ]
  },
  {
   "cell_type": "code",
   "execution_count": null,
   "id": "3af85841-9743-4dd7-9d4d-aae9f6af673f",
   "metadata": {},
   "outputs": [],
   "source": [
    "data = pd.DataFrame(remote_data)\n",
    "dept = data.groupby(['Industry','Stress_Level']).size().unstack(fill_value = 0)#.reset_index(name = 'Count')\n",
    "#print(dept)\n",
    "dept"
   ]
  },
  {
   "cell_type": "code",
   "execution_count": null,
   "id": "c680fe61-3547-474d-9be0-b25c880ba88e",
   "metadata": {},
   "outputs": [],
   "source": [
    "# Assuming 'remote_data' is your initial data\n",
    "data = pd.DataFrame(remote_data)\n",
    "\n",
    "# Group by 'Industry' and 'Stress_Level', then count occurrences\n",
    "dept = data.groupby(['Industry', 'Stress_Level']).size().unstack(fill_value=0)\n",
    "\n",
    "# Print the results\n",
    "print(dept)"
   ]
  },
  {
   "cell_type": "code",
   "execution_count": null,
   "id": "b45b21dd-a67e-4448-a453-5c1c94851c02",
   "metadata": {},
   "outputs": [],
   "source": [
    "# Find the industry with the highest count for each stress level\n",
    "high_stress_industry = dept['High'].idxmax()\n",
    "medium_stress_industry = dept['Medium'].idxmax()\n",
    "low_stress_industry = dept['Low'].idxmax()\n",
    "\n",
    "# # # Print the results\n",
    "# print(f\"Industry with highest stress level: {high_stress_industry}\")\n",
    "# print(f\"Industry with medium stress level: {medium_stress_industry}\")\n",
    "# print(f\"Industry with lowest stress level: {low_stress_industry}\")\n",
    "\n",
    "# Create a DataFrame to hold the results\n",
    "stress_level_summary = pd.DataFrame({\n",
    "    'Stress Level': ['High', 'Medium', 'Low'],\n",
    "    'Industry': [high_stress_industry, medium_stress_industry, low_stress_industry]\n",
    "})\n",
    "\n",
    "# Print the summary DataFrame\n",
    "#print(stress_level_summary)\n",
    "stress_level_summary\n"
   ]
  },
  {
   "cell_type": "code",
   "execution_count": null,
   "id": "94aea0fd-6ee0-4a85-954f-298503411148",
   "metadata": {},
   "outputs": [],
   "source": []
  },
  {
   "cell_type": "code",
   "execution_count": null,
   "id": "aeb0fb30-52de-4dc2-8a25-fa7f50fef9bb",
   "metadata": {},
   "outputs": [],
   "source": [
    "print(f\"Industry with highest stress level: {high_stress_industry}\")"
   ]
  },
  {
   "cell_type": "code",
   "execution_count": null,
   "id": "1e3af836-f7d9-41af-ae30-86292412306e",
   "metadata": {},
   "outputs": [],
   "source": [
    "#Find the industry with the highest count of high stress levels\n",
    "high_stress_industry = dept['High'].idxmax()\n",
    "high_stress_count = dept['High'].max()\n",
    "\n",
    "# Print the result\n",
    "print(f\"Industry with the highest stress level: {high_stress_industry} (Count: {high_stress_count})\")"
   ]
  },
  {
   "cell_type": "code",
   "execution_count": null,
   "id": "c9ab51f4-df6c-4a0d-8847-1f91086968a7",
   "metadata": {},
   "outputs": [],
   "source": [
    "ind_stress = {\n",
    "    'Industry': ['Consulting', 'Education', 'Finance', 'Healthcare', 'IT', 'Manufacturing', \n",
    "               'Retail'],\n",
    "    \n",
    "    'High': [219, 238, 266, 257, 243, 215, 248 ],\n",
    "    'Low' : [226, 205, 248, 231, 263, 229, 243],\n",
    "    'Medium' : [235, 247, 233, 240, 240, 239, 235]\n",
    "}\n",
    "\n",
    "# Create DataFrame\n",
    "df = pd.DataFrame(ind_stress)\n",
    "\n",
    "# Display the DataFrame\n",
    "df"
   ]
  },
  {
   "cell_type": "code",
   "execution_count": null,
   "id": "cab7a56e-513a-4f26-93af-ccb3fd148b53",
   "metadata": {},
   "outputs": [],
   "source": [
    "\n",
    "import pandas as pd\n",
    "\n",
    "# Create data as a dictionary\n",
    "data = {\n",
    "    'Region': ['Africa', 'Africa', 'Africa', 'Asia', 'Asia', 'Asia', \n",
    "               'Europe', 'Europe', 'Europe', 'North America', 'North America', 'North America', \n",
    "               'Oceania', 'Oceania', 'Oceania', 'South America', 'South America', 'South America'],\n",
    "    'Stress_Level': ['High', 'Low', 'Medium', 'High', 'Low', 'Medium', \n",
    "                     'High', 'Low', 'Medium', 'High', 'Low', 'Medium', \n",
    "                     'High', 'Low', 'Medium', 'High', 'Low', 'Medium'],\n",
    "    'Value': [310, 282, 268, 252, 281, 296, 298, 261, 281, 256, 266, 255, \n",
    "              282, 291, 294, 288, 264, 275]\n",
    "}\n",
    "\n",
    "# Create DataFrame\n",
    "df = pd.DataFrame(data)\n",
    "\n",
    "# Display the DataFrame\n",
    "print(df)"
   ]
  },
  {
   "cell_type": "code",
   "execution_count": null,
   "id": "91c4358e-720f-4a15-b34b-9eabfd43a04f",
   "metadata": {},
   "outputs": [],
   "source": [
    "# Group by 'Industry' and calculate the average hours worked per week\n",
    "\n",
    "Hours_Per_Week = pd.DataFrame(remote_data)\n",
    "Hours_Per_Week = Hours_Per_Week.groupby('Industry')['Hours_Worked_Per_Week'].mean().reset_index()\n",
    "Hours_Per_Week"
   ]
  },
  {
   "cell_type": "code",
   "execution_count": null,
   "id": "55332be5-700e-4181-923f-a511a8365c44",
   "metadata": {},
   "outputs": [],
   "source": [
    "#Renaming the column\n",
    "\n",
    "Average_Hours_Week = Hours_Per_Week.rename(columns={'Hours_Worked_Per_Week': 'Average_Hours_Week'})\n",
    "Average_Hours_Week"
   ]
  },
  {
   "cell_type": "code",
   "execution_count": null,
   "id": "9df0df64-7040-4c0b-9e6d-513d08020790",
   "metadata": {},
   "outputs": [],
   "source": [
    "# Sort the DataFrame from highest to lowest average hours\n",
    "\n",
    "Average_Hours_Week_sort = Average_Hours_Week.sort_values(by = 'Average_Hours_Week' ,ascending = False )#.reset_index()\n",
    "Average_Hours_Week_sort"
   ]
  },
  {
   "cell_type": "code",
   "execution_count": null,
   "id": "7c378117-6d63-47a7-92cb-800baf437493",
   "metadata": {},
   "outputs": [],
   "source": [
    "remote_data.columns"
   ]
  },
  {
   "cell_type": "code",
   "execution_count": null,
   "id": "bdf8a21e-60fd-412a-9a43-f14d58c6a480",
   "metadata": {},
   "outputs": [],
   "source": [
    "Avg_industry = pd.DataFrame(remote_data)\n",
    "\n",
    "\n",
    "# Create DataFrame\n",
    "#df = pd.DataFrame(remote_data)\n",
    "\n",
    "# Convert Stress_Level to a categorical type and set the order\n",
    "Avg_industry['Stress_Level'] = pd.Categorical(df['Stress_Level'], categories=['Low', 'Medium', 'High'], ordered=True)\n",
    "Avg_industry['Stress_Level']\n",
    "\n",
    "# Convert Stress_Level to numeric\n",
    "Avg_industry['Stress_Level_Numeric'] = Avg_industry['Stress_Level'].cat.codes\n",
    "Avg_industry['Stress_Level_Numeric']\n",
    "\n",
    "# # Group by Industry and calculate the average stress level\n",
    "Stress_Avg_industry = Avg_industry.groupby('Industry')['Stress_Level_Numeric'].mean().reset_index()\n",
    "Stress_Avg_industry\n",
    "# # Rename the column for clarity\n",
    "# Stress_Avg_industry.rename(columns={'Stress_Level_Numeric': 'Average_Stress_Level'}, inplace=True)\n",
    "# Stress_Avg_industry = Stress_Avg_industry.groupby('Industry')['Stress_Level'].mean().reset_index()\n",
    "# Stress_Avg_industry"
   ]
  },
  {
   "cell_type": "code",
   "execution_count": null,
   "id": "78b7460a-e36d-42cd-9aa6-6144afab69b2",
   "metadata": {},
   "outputs": [],
   "source": [
    "mental_condn = pd.DataFrame(remote_data)\n",
    "job_role = mental_condn.groupby('Job_Role')['Mental_Health_Condition']\n",
    "job_role"
   ]
  },
  {
   "cell_type": "code",
   "execution_count": null,
   "id": "792294ed-0c7e-4869-86ea-21e06ed05a0a",
   "metadata": {},
   "outputs": [],
   "source": [
    "# Replace the mental health conditions with numeric values\n",
    "mental_condn['Mental_Health_value'] = mental_condn['Mental_Health_Condition'].replace({\n",
    "    'Depression': 1,\n",
    "    'Anxiety': 2,\n",
    "    'Burnout': 3,\n",
    "    'Not Available': 4\n",
    "})\n",
    "\n",
    "# Now group by 'Job_Role' and calculate the mean of the new 'Mental_Health_Score'\n",
    "job_role_stats = mental_condn.groupby('Job_Role')['Mental_Health_value'].mean().reset_index(name = 'count')\n",
    "\n",
    "# Sort the results to find the worst job role\n",
    "worst_job_role = job_role_stats.sort_values(by='Job_Role')\n",
    "\n",
    "# Print the job role with the worst mental health condition\n",
    "#print(worst_job_role)\n",
    "worst_job_role"
   ]
  },
  {
   "cell_type": "code",
   "execution_count": null,
   "id": "29b09695-11c4-4c28-b254-360ec4d1b01c",
   "metadata": {},
   "outputs": [],
   "source": [
    "remote_data['Mental_Health_Condition'].unique()"
   ]
  },
  {
   "cell_type": "code",
   "execution_count": null,
   "id": "2e7a469d-3475-44da-95c0-52060c1bab2e",
   "metadata": {},
   "outputs": [],
   "source": [
    "industry_remote = pd.DataFrame(remote_data)\n",
    "industry_remote"
   ]
  },
  {
   "cell_type": "code",
   "execution_count": null,
   "id": "57a9a60a-5514-4d30-a561-76f092736cf8",
   "metadata": {},
   "outputs": [],
   "source": [
    "# industry_loc_mental_health = industry_remote.groupby(['Work_Location','Mental_Health_Condition']).size().unstack(fill_value=0)\n",
    "# industry_loc_mental_health\n",
    "\n",
    "industry_loc_mental_health = remote_data.groupby(['Work_Location','Mental_Health_Condition']).size().unstack(fill_value=0)\n",
    "industry_loc_mental_health\n",
    "\n"
   ]
  },
  {
   "cell_type": "code",
   "execution_count": null,
   "id": "ecdd9dcd-a0c1-49e8-87c3-9409b8d3f857",
   "metadata": {},
   "outputs": [],
   "source": [
    "Mental_Health = {\n",
    "    'Work_Location': ['Hybrid', 'Onsite', 'Remote'],\n",
    "    'Anxiety': [428, 407, 443],\n",
    "    'Burnout': [400, 442, 438],\n",
    "    'Depression': [421, 412, 413],\n",
    "    'Healthy': [400, 376, 420]\n",
    "}\n",
    "\n",
    "Mental_Health_df = pd.DataFrame(Mental_Health)\n",
    "\n",
    "# Set Work_Location as the index\n",
    "#Mental_Health_df.set_index('Work_Location', inplace=True)\n",
    "Mental_Health_df.set_index('Work_Location')#,inplace=True)\n",
    "\n",
    "\n",
    "# Calculate the total counts for each work location\n",
    "Mental_Health_df['Total'] = Mental_Health_df.sum(axis=1)\n",
    "\n",
    "\n",
    "print(f\"The most affected location is: {most_affected_location} with a total count of {most_affected_count}\")\n"
   ]
  },
  {
   "cell_type": "code",
   "execution_count": null,
   "id": "4b915478-a228-4754-bff9-d36bb88b671a",
   "metadata": {},
   "outputs": [],
   "source": [
    "# Create a DataFrame with the provided data\n",
    "Mental_Health = {\n",
    "    'Work_Location': ['Hybrid', 'Onsite', 'Remote'],\n",
    "    'Anxiety': [428, 407, 443],\n",
    "    'Burnout': [400, 442, 438],\n",
    "    'Depression': [421, 412, 413],\n",
    "    'Healthy': [400, 376, 420]\n",
    "}\n",
    "\n",
    "Mental_Health_df = pd.DataFrame(Mental_Health)\n",
    "\n",
    "# Set Work_Location as the index\n",
    "#Mental_Health_df.set_index('Work_Location', inplace=True)\n",
    "Mental_Health_df.set_index('Work_Location')#,inplace=True)\n",
    "\n",
    "\n",
    "# Calculate the total counts for each work location\n",
    "Mental_Health_df['Total'] = Mental_Health_df.sum(axis=1)\n",
    "\n",
    "# Find the location with the highest total count\n",
    "# most_affected_location = Mental_Health_df['Total'].idxmax()\n",
    "# most_affected_count = Mental_Health_df['Total'].max()\n",
    "# most_affected_count\n",
    "\n",
    "print(f\"The most affected location is: {most_affected_location} with a total count of {most_affected_count}\")\n",
    "\n",
    "# # Optionally, you can also find which condition is most prevalent in each location\n",
    "# most_prevalent_condition = df[['Anxiety', 'Burnout', 'Depression', 'Not Available']].idxmax(axis=1)\n",
    "# print(\"\\nMost prevalent mental health condition in each location:\")\n",
    "# #print(most_prevalent_condition)\n",
    "# most_prevalent_condition"
   ]
  },
  {
   "cell_type": "code",
   "execution_count": null,
   "id": "8c742e98-f7f0-4fce-af39-867f066cef70",
   "metadata": {},
   "outputs": [],
   "source": [
    "# Replace the mental health conditions with numeric values\n",
    "mental_condn['Mental_Health_value'] = mental_condn['Mental_Health_Condition'].replace({\n",
    "    'Depression': 1,\n",
    "    'Anxiety': 2,\n",
    "    'Burnout': 3,\n",
    "    'Not Available': 4\n",
    "})\n",
    "\n",
    "# Now group by 'Job_Role' and calculate the mean of the new 'Mental_Health_Score'\n",
    "job_role_stats = mental_condn.groupby('Work_Location')['Mental_Health_value'].mean().reset_index(name = 'count')\n",
    "\n",
    "# Sort the results to find the worst job role\n",
    "worst_job_loc = job_role_stats.sort_values(by='Work_Location')\n",
    "\n",
    "# Print the job role with the worst mental health condition\n",
    "#print(worst_job_role)\n",
    "worst_job_loc"
   ]
  },
  {
   "cell_type": "code",
   "execution_count": null,
   "id": "3d9385c4-1db6-4bf0-ab01-415be2291830",
   "metadata": {},
   "outputs": [],
   "source": [
    "# Replace the mental health conditions with numeric values\n",
    "mental_condn['Mental_Health_value'] = mental_condn['Mental_Health_Condition'].replace({\n",
    "    'Depression': 1,\n",
    "    'Anxiety': 2,\n",
    "    'Burnout': 3,\n",
    "    'Not Available': 4\n",
    "})\n",
    "\n",
    "# Now group by 'Job_Role' and calculate the mean of the new 'Mental_Health_Score'\n",
    "job_role_stats = mental_condn.groupby('Work_Location')['Mental_Health_value'].size().reset_index(name = 'count')\n",
    "\n",
    "# Sort the results to find the worst job role\n",
    "worst_job_loc = job_role_stats.sort_values(by='Work_Location')\n",
    "\n",
    "# Print the job role with the worst mental health condition\n",
    "#print(worst_job_role)\n",
    "worst_job_loc"
   ]
  },
  {
   "cell_type": "code",
   "execution_count": null,
   "id": "511f2dc2-1495-4bc8-8e96-b4324f1a8e41",
   "metadata": {},
   "outputs": [],
   "source": [
    "# Create DataFrame\n",
    "data = pd.DataFrame(remote_data)\n",
    "\n",
    "# Analyze the impact of Physical Activity on Mental Health Condition based on Work Location\n",
    "analysis = data.groupby(['Work_Location', 'Mental_Health_Condition']).agg({\n",
    "    'Physical_Activity': 'mean',\n",
    "    'Employee_ID': 'count'\n",
    "}).rename(columns={'Employee_ID': 'Count'}).reset_index()\n",
    "\n",
    "# Display the analysis\n",
    "print(analysis)"
   ]
  },
  {
   "cell_type": "code",
   "execution_count": null,
   "id": "d73d38eb-3e5d-4148-b0aa-cd9c39c19ec7",
   "metadata": {},
   "outputs": [],
   "source": []
  }
 ],
 "metadata": {
  "kernelspec": {
   "display_name": "Python 3 (ipykernel)",
   "language": "python",
   "name": "python3"
  },
  "language_info": {
   "codemirror_mode": {
    "name": "ipython",
    "version": 3
   },
   "file_extension": ".py",
   "mimetype": "text/x-python",
   "name": "python",
   "nbconvert_exporter": "python",
   "pygments_lexer": "ipython3",
   "version": "3.11.7"
  }
 },
 "nbformat": 4,
 "nbformat_minor": 5
}
