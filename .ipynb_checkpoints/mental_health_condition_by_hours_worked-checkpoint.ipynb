{
 "cells": [
  {
   "cell_type": "code",
   "execution_count": 1,
   "id": "6182d6ce-c783-4970-b342-c5c9511484b8",
   "metadata": {},
   "outputs": [],
   "source": [
    "import os\n",
    "import pandas as pd\n",
    "\n",
    "file = \"./Impact_of_Remote_Work_on_Mental_Health.csv\"\n",
    "\n",
    "mentalHealthDf = pd.read_csv(file)\n",
    "mentalHealthDf.head()\n",
    "\n",
    "bins = [20, 30, 40, 50, 60, 70]\n",
    "labels = ['20-29', '30-39', '40-49', '50-59', '60-69']\n",
    "\n",
    "mentalHealthDf['hoursWorkedGrouped'] = pd.cut(mentalHealthDf['Hours_Worked_Per_Week'], bins=bins, labels=labels, right = False)"
   ]
  },
  {
   "cell_type": "code",
   "execution_count": 2,
   "id": "22ef8987-5f08-46ef-9751-cf081ed3ca28",
   "metadata": {},
   "outputs": [],
   "source": [
    "#setup variables for mental health conditions and concatenate\n",
    "mentalHealthbyCond = pd.get_dummies(mentalHealthDf['Mental_Health_Condition'])\n",
    "\n",
    "mentalHealthDf = pd.concat([mentalHealthDf, mentalHealthbyCond], axis=1)"
   ]
  },
  {
   "cell_type": "code",
   "execution_count": 3,
   "id": "d20fd0f7-c2e5-4e63-9f73-8597f1036c82",
   "metadata": {},
   "outputs": [],
   "source": [
    "#setup separate dataframes\n",
    "hybrid_df = mentalHealthDf[mentalHealthDf['Work_Location'] == 'Hybrid']\n",
    "onsite_df = mentalHealthDf[mentalHealthDf['Work_Location'] == 'Onsite']\n",
    "remote_df = mentalHealthDf[mentalHealthDf['Work_Location'] == 'Remote']"
   ]
  },
  {
   "cell_type": "code",
   "execution_count": 4,
   "id": "37b3de25-60b7-4144-8bff-89105ba99bde",
   "metadata": {},
   "outputs": [
    {
     "name": "stderr",
     "output_type": "stream",
     "text": [
      "C:\\Users\\mhennessy\\AppData\\Local\\Temp\\ipykernel_23920\\1692376088.py:2: FutureWarning: The default of observed=False is deprecated and will be changed to True in a future version of pandas. Pass observed=False to retain current behavior or observed=True to adopt the future default and silence this warning.\n",
      "  hybrid_grouped = hybrid_df.groupby('hoursWorkedGrouped').sum(numeric_only=True).reset_index()\n",
      "C:\\Users\\mhennessy\\AppData\\Local\\Temp\\ipykernel_23920\\1692376088.py:3: FutureWarning: The default of observed=False is deprecated and will be changed to True in a future version of pandas. Pass observed=False to retain current behavior or observed=True to adopt the future default and silence this warning.\n",
      "  onsite_grouped = onsite_df.groupby('hoursWorkedGrouped').sum(numeric_only=True).reset_index()\n",
      "C:\\Users\\mhennessy\\AppData\\Local\\Temp\\ipykernel_23920\\1692376088.py:4: FutureWarning: The default of observed=False is deprecated and will be changed to True in a future version of pandas. Pass observed=False to retain current behavior or observed=True to adopt the future default and silence this warning.\n",
      "  remote_grouped = remote_df.groupby('hoursWorkedGrouped').sum(numeric_only=True).reset_index()\n"
     ]
    }
   ],
   "source": [
    "#group each dataframe by hours worked\n",
    "hybrid_grouped = hybrid_df.groupby('hoursWorkedGrouped').sum(numeric_only=True).reset_index()\n",
    "onsite_grouped = onsite_df.groupby('hoursWorkedGrouped').sum(numeric_only=True).reset_index()\n",
    "remote_grouped = remote_df.groupby('hoursWorkedGrouped').sum(numeric_only=True).reset_index()"
   ]
  },
  {
   "cell_type": "code",
   "execution_count": 5,
   "id": "6554d849-ceb8-43b6-86b4-d3bc8f2a8551",
   "metadata": {},
   "outputs": [],
   "source": [
    "#reduce columns and review each df\n",
    "hybrid_result = hybrid_grouped[['hoursWorkedGrouped', 'Anxiety', 'Burnout', 'Depression']]\n",
    "onsite_result = onsite_grouped[['hoursWorkedGrouped', 'Anxiety', 'Burnout', 'Depression']]\n",
    "remote_result = remote_grouped[['hoursWorkedGrouped', 'Anxiety', 'Burnout', 'Depression']]"
   ]
  },
  {
   "cell_type": "code",
   "execution_count": 6,
   "id": "d46fc158-84fa-4df3-baab-f540397cca1c",
   "metadata": {},
   "outputs": [
    {
     "name": "stdout",
     "output_type": "stream",
     "text": [
      "Hybrid Work Location DataFrame:\n"
     ]
    },
    {
     "data": {
      "text/html": [
       "<div>\n",
       "<style scoped>\n",
       "    .dataframe tbody tr th:only-of-type {\n",
       "        vertical-align: middle;\n",
       "    }\n",
       "\n",
       "    .dataframe tbody tr th {\n",
       "        vertical-align: top;\n",
       "    }\n",
       "\n",
       "    .dataframe thead th {\n",
       "        text-align: right;\n",
       "    }\n",
       "</style>\n",
       "<table border=\"1\" class=\"dataframe\">\n",
       "  <thead>\n",
       "    <tr style=\"text-align: right;\">\n",
       "      <th></th>\n",
       "      <th>hoursWorkedGrouped</th>\n",
       "      <th>Anxiety</th>\n",
       "      <th>Burnout</th>\n",
       "      <th>Depression</th>\n",
       "    </tr>\n",
       "  </thead>\n",
       "  <tbody>\n",
       "    <tr>\n",
       "      <th>0</th>\n",
       "      <td>20-29</td>\n",
       "      <td>101</td>\n",
       "      <td>98</td>\n",
       "      <td>119</td>\n",
       "    </tr>\n",
       "    <tr>\n",
       "      <th>1</th>\n",
       "      <td>30-39</td>\n",
       "      <td>108</td>\n",
       "      <td>89</td>\n",
       "      <td>94</td>\n",
       "    </tr>\n",
       "    <tr>\n",
       "      <th>2</th>\n",
       "      <td>40-49</td>\n",
       "      <td>121</td>\n",
       "      <td>112</td>\n",
       "      <td>95</td>\n",
       "    </tr>\n",
       "    <tr>\n",
       "      <th>3</th>\n",
       "      <td>50-59</td>\n",
       "      <td>92</td>\n",
       "      <td>92</td>\n",
       "      <td>94</td>\n",
       "    </tr>\n",
       "    <tr>\n",
       "      <th>4</th>\n",
       "      <td>60-69</td>\n",
       "      <td>6</td>\n",
       "      <td>9</td>\n",
       "      <td>19</td>\n",
       "    </tr>\n",
       "  </tbody>\n",
       "</table>\n",
       "</div>"
      ],
      "text/plain": [
       "  hoursWorkedGrouped  Anxiety  Burnout  Depression\n",
       "0              20-29      101       98         119\n",
       "1              30-39      108       89          94\n",
       "2              40-49      121      112          95\n",
       "3              50-59       92       92          94\n",
       "4              60-69        6        9          19"
      ]
     },
     "execution_count": 6,
     "metadata": {},
     "output_type": "execute_result"
    }
   ],
   "source": [
    "print(\"Hybrid Work Location DataFrame:\")\n",
    "hybrid_result"
   ]
  },
  {
   "cell_type": "code",
   "execution_count": 7,
   "id": "d5d03998-e017-4f73-add0-2d282d035dbe",
   "metadata": {},
   "outputs": [
    {
     "name": "stdout",
     "output_type": "stream",
     "text": [
      "Onsite Work Location DataFrame:\n"
     ]
    },
    {
     "data": {
      "text/html": [
       "<div>\n",
       "<style scoped>\n",
       "    .dataframe tbody tr th:only-of-type {\n",
       "        vertical-align: middle;\n",
       "    }\n",
       "\n",
       "    .dataframe tbody tr th {\n",
       "        vertical-align: top;\n",
       "    }\n",
       "\n",
       "    .dataframe thead th {\n",
       "        text-align: right;\n",
       "    }\n",
       "</style>\n",
       "<table border=\"1\" class=\"dataframe\">\n",
       "  <thead>\n",
       "    <tr style=\"text-align: right;\">\n",
       "      <th></th>\n",
       "      <th>hoursWorkedGrouped</th>\n",
       "      <th>Anxiety</th>\n",
       "      <th>Burnout</th>\n",
       "      <th>Depression</th>\n",
       "    </tr>\n",
       "  </thead>\n",
       "  <tbody>\n",
       "    <tr>\n",
       "      <th>0</th>\n",
       "      <td>20-29</td>\n",
       "      <td>106</td>\n",
       "      <td>108</td>\n",
       "      <td>98</td>\n",
       "    </tr>\n",
       "    <tr>\n",
       "      <th>1</th>\n",
       "      <td>30-39</td>\n",
       "      <td>123</td>\n",
       "      <td>104</td>\n",
       "      <td>95</td>\n",
       "    </tr>\n",
       "    <tr>\n",
       "      <th>2</th>\n",
       "      <td>40-49</td>\n",
       "      <td>81</td>\n",
       "      <td>101</td>\n",
       "      <td>107</td>\n",
       "    </tr>\n",
       "    <tr>\n",
       "      <th>3</th>\n",
       "      <td>50-59</td>\n",
       "      <td>88</td>\n",
       "      <td>115</td>\n",
       "      <td>104</td>\n",
       "    </tr>\n",
       "    <tr>\n",
       "      <th>4</th>\n",
       "      <td>60-69</td>\n",
       "      <td>9</td>\n",
       "      <td>14</td>\n",
       "      <td>8</td>\n",
       "    </tr>\n",
       "  </tbody>\n",
       "</table>\n",
       "</div>"
      ],
      "text/plain": [
       "  hoursWorkedGrouped  Anxiety  Burnout  Depression\n",
       "0              20-29      106      108          98\n",
       "1              30-39      123      104          95\n",
       "2              40-49       81      101         107\n",
       "3              50-59       88      115         104\n",
       "4              60-69        9       14           8"
      ]
     },
     "execution_count": 7,
     "metadata": {},
     "output_type": "execute_result"
    }
   ],
   "source": [
    "print(\"Onsite Work Location DataFrame:\")\n",
    "onsite_result"
   ]
  },
  {
   "cell_type": "code",
   "execution_count": 8,
   "id": "d3cb00c9-9af5-4d91-b587-5ac0964162b9",
   "metadata": {},
   "outputs": [
    {
     "name": "stdout",
     "output_type": "stream",
     "text": [
      "Remote Work Location DataFrame:\n"
     ]
    },
    {
     "data": {
      "text/html": [
       "<div>\n",
       "<style scoped>\n",
       "    .dataframe tbody tr th:only-of-type {\n",
       "        vertical-align: middle;\n",
       "    }\n",
       "\n",
       "    .dataframe tbody tr th {\n",
       "        vertical-align: top;\n",
       "    }\n",
       "\n",
       "    .dataframe thead th {\n",
       "        text-align: right;\n",
       "    }\n",
       "</style>\n",
       "<table border=\"1\" class=\"dataframe\">\n",
       "  <thead>\n",
       "    <tr style=\"text-align: right;\">\n",
       "      <th></th>\n",
       "      <th>hoursWorkedGrouped</th>\n",
       "      <th>Anxiety</th>\n",
       "      <th>Burnout</th>\n",
       "      <th>Depression</th>\n",
       "    </tr>\n",
       "  </thead>\n",
       "  <tbody>\n",
       "    <tr>\n",
       "      <th>0</th>\n",
       "      <td>20-29</td>\n",
       "      <td>106</td>\n",
       "      <td>116</td>\n",
       "      <td>112</td>\n",
       "    </tr>\n",
       "    <tr>\n",
       "      <th>1</th>\n",
       "      <td>30-39</td>\n",
       "      <td>120</td>\n",
       "      <td>109</td>\n",
       "      <td>100</td>\n",
       "    </tr>\n",
       "    <tr>\n",
       "      <th>2</th>\n",
       "      <td>40-49</td>\n",
       "      <td>102</td>\n",
       "      <td>89</td>\n",
       "      <td>98</td>\n",
       "    </tr>\n",
       "    <tr>\n",
       "      <th>3</th>\n",
       "      <td>50-59</td>\n",
       "      <td>109</td>\n",
       "      <td>116</td>\n",
       "      <td>95</td>\n",
       "    </tr>\n",
       "    <tr>\n",
       "      <th>4</th>\n",
       "      <td>60-69</td>\n",
       "      <td>6</td>\n",
       "      <td>8</td>\n",
       "      <td>8</td>\n",
       "    </tr>\n",
       "  </tbody>\n",
       "</table>\n",
       "</div>"
      ],
      "text/plain": [
       "  hoursWorkedGrouped  Anxiety  Burnout  Depression\n",
       "0              20-29      106      116         112\n",
       "1              30-39      120      109         100\n",
       "2              40-49      102       89          98\n",
       "3              50-59      109      116          95\n",
       "4              60-69        6        8           8"
      ]
     },
     "execution_count": 8,
     "metadata": {},
     "output_type": "execute_result"
    }
   ],
   "source": [
    "print(\"Remote Work Location DataFrame:\")\n",
    "remote_result"
   ]
  },
  {
   "cell_type": "code",
   "execution_count": null,
   "id": "40542db4-8dfe-406a-b8c3-585bd13c1402",
   "metadata": {},
   "outputs": [],
   "source": []
  }
 ],
 "metadata": {
  "kernelspec": {
   "display_name": "Python 3 (ipykernel)",
   "language": "python",
   "name": "python3"
  },
  "language_info": {
   "codemirror_mode": {
    "name": "ipython",
    "version": 3
   },
   "file_extension": ".py",
   "mimetype": "text/x-python",
   "name": "python",
   "nbconvert_exporter": "python",
   "pygments_lexer": "ipython3",
   "version": "3.11.7"
  }
 },
 "nbformat": 4,
 "nbformat_minor": 5
}
