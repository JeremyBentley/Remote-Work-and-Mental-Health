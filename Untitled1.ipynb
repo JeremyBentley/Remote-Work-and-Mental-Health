{
 "cells": [
  {
   "cell_type": "code",
   "execution_count": 1,
   "id": "5dd8bb35-63f4-4c2e-a03f-231a6ac91d1e",
   "metadata": {},
   "outputs": [
    {
     "name": "stdout",
     "output_type": "stream",
     "text": [
      "Requirement already satisfied: modin[all] in c:\\users\\nprab\\anaconda3\\lib\\site-packages (0.32.0)\n",
      "Requirement already satisfied: pandas<2.3,>=2.2 in c:\\users\\nprab\\anaconda3\\lib\\site-packages (from modin[all]) (2.2.3)\n",
      "Requirement already satisfied: packaging>=21.0 in c:\\users\\nprab\\anaconda3\\lib\\site-packages (from modin[all]) (23.1)\n",
      "Requirement already satisfied: numpy>=1.22.4 in c:\\users\\nprab\\anaconda3\\lib\\site-packages (from modin[all]) (1.26.4)\n",
      "Requirement already satisfied: fsspec>=2022.11.0 in c:\\users\\nprab\\anaconda3\\lib\\site-packages (from modin[all]) (2023.10.0)\n",
      "Requirement already satisfied: psutil>=5.8.0 in c:\\users\\nprab\\anaconda3\\lib\\site-packages (from modin[all]) (5.9.0)\n",
      "Requirement already satisfied: dask>=2.22.0 in c:\\users\\nprab\\anaconda3\\lib\\site-packages (from modin[all]) (2023.11.0)\n",
      "Requirement already satisfied: distributed>=2.22.0 in c:\\users\\nprab\\anaconda3\\lib\\site-packages (from modin[all]) (2023.11.0)\n",
      "Requirement already satisfied: ray!=2.5.0,>=2.1.0 in c:\\users\\nprab\\anaconda3\\lib\\site-packages (from modin[all]) (2.37.0)\n",
      "Requirement already satisfied: pyarrow>=10.0.1 in c:\\users\\nprab\\anaconda3\\lib\\site-packages (from modin[all]) (14.0.2)\n",
      "Requirement already satisfied: modin-spreadsheet>=0.1.0 in c:\\users\\nprab\\anaconda3\\lib\\site-packages (from modin[all]) (0.1.2)\n",
      "Requirement already satisfied: dataframe-api-compat>=0.2.7 in c:\\users\\nprab\\anaconda3\\lib\\site-packages (from modin[all]) (0.2.7)\n",
      "Requirement already satisfied: click>=8.1 in c:\\users\\nprab\\anaconda3\\lib\\site-packages (from dask>=2.22.0->modin[all]) (8.1.7)\n",
      "Requirement already satisfied: cloudpickle>=1.5.0 in c:\\users\\nprab\\anaconda3\\lib\\site-packages (from dask>=2.22.0->modin[all]) (2.2.1)\n",
      "Requirement already satisfied: partd>=1.2.0 in c:\\users\\nprab\\anaconda3\\lib\\site-packages (from dask>=2.22.0->modin[all]) (1.4.1)\n",
      "Requirement already satisfied: pyyaml>=5.3.1 in c:\\users\\nprab\\anaconda3\\lib\\site-packages (from dask>=2.22.0->modin[all]) (6.0.1)\n",
      "Requirement already satisfied: toolz>=0.10.0 in c:\\users\\nprab\\anaconda3\\lib\\site-packages (from dask>=2.22.0->modin[all]) (0.12.0)\n",
      "Requirement already satisfied: importlib-metadata>=4.13.0 in c:\\users\\nprab\\anaconda3\\lib\\site-packages (from dask>=2.22.0->modin[all]) (7.0.1)\n",
      "Requirement already satisfied: jinja2>=2.10.3 in c:\\users\\nprab\\anaconda3\\lib\\site-packages (from distributed>=2.22.0->modin[all]) (3.1.3)\n",
      "Requirement already satisfied: locket>=1.0.0 in c:\\users\\nprab\\anaconda3\\lib\\site-packages (from distributed>=2.22.0->modin[all]) (1.0.0)\n",
      "Requirement already satisfied: msgpack>=1.0.0 in c:\\users\\nprab\\anaconda3\\lib\\site-packages (from distributed>=2.22.0->modin[all]) (1.0.3)\n",
      "Requirement already satisfied: sortedcontainers>=2.0.5 in c:\\users\\nprab\\anaconda3\\lib\\site-packages (from distributed>=2.22.0->modin[all]) (2.4.0)\n",
      "Requirement already satisfied: tblib>=1.6.0 in c:\\users\\nprab\\anaconda3\\lib\\site-packages (from distributed>=2.22.0->modin[all]) (1.7.0)\n",
      "Requirement already satisfied: tornado>=6.0.4 in c:\\users\\nprab\\anaconda3\\lib\\site-packages (from distributed>=2.22.0->modin[all]) (6.3.3)\n",
      "Requirement already satisfied: urllib3>=1.24.3 in c:\\users\\nprab\\anaconda3\\lib\\site-packages (from distributed>=2.22.0->modin[all]) (1.26.16)\n",
      "Requirement already satisfied: zict>=3.0.0 in c:\\users\\nprab\\anaconda3\\lib\\site-packages (from distributed>=2.22.0->modin[all]) (3.0.0)\n",
      "Requirement already satisfied: jupyter>=1.0.0 in c:\\users\\nprab\\anaconda3\\lib\\site-packages (from modin-spreadsheet>=0.1.0->modin[all]) (1.0.0)\n",
      "Requirement already satisfied: notebook>=6.0.3 in c:\\users\\nprab\\anaconda3\\lib\\site-packages (from modin-spreadsheet>=0.1.0->modin[all]) (7.0.8)\n",
      "Requirement already satisfied: ipywidgets>=7.0.0 in c:\\users\\nprab\\anaconda3\\lib\\site-packages (from modin-spreadsheet>=0.1.0->modin[all]) (7.6.5)\n",
      "Requirement already satisfied: python-dateutil>=2.8.2 in c:\\users\\nprab\\anaconda3\\lib\\site-packages (from pandas<2.3,>=2.2->modin[all]) (2.8.2)\n",
      "Requirement already satisfied: pytz>=2020.1 in c:\\users\\nprab\\anaconda3\\lib\\site-packages (from pandas<2.3,>=2.2->modin[all]) (2023.3.post1)\n",
      "Requirement already satisfied: tzdata>=2022.7 in c:\\users\\nprab\\anaconda3\\lib\\site-packages (from pandas<2.3,>=2.2->modin[all]) (2023.3)\n",
      "Requirement already satisfied: filelock in c:\\users\\nprab\\anaconda3\\lib\\site-packages (from ray!=2.5.0,>=2.1.0->modin[all]) (3.13.1)\n",
      "Requirement already satisfied: jsonschema in c:\\users\\nprab\\anaconda3\\lib\\site-packages (from ray!=2.5.0,>=2.1.0->modin[all]) (4.19.2)\n",
      "Requirement already satisfied: protobuf!=3.19.5,>=3.15.3 in c:\\users\\nprab\\anaconda3\\lib\\site-packages (from ray!=2.5.0,>=2.1.0->modin[all]) (3.20.3)\n",
      "Requirement already satisfied: aiosignal in c:\\users\\nprab\\anaconda3\\lib\\site-packages (from ray!=2.5.0,>=2.1.0->modin[all]) (1.2.0)\n",
      "Requirement already satisfied: frozenlist in c:\\users\\nprab\\anaconda3\\lib\\site-packages (from ray!=2.5.0,>=2.1.0->modin[all]) (1.4.0)\n",
      "Requirement already satisfied: requests in c:\\users\\nprab\\anaconda3\\lib\\site-packages (from ray!=2.5.0,>=2.1.0->modin[all]) (2.31.0)\n",
      "Requirement already satisfied: colorama in c:\\users\\nprab\\anaconda3\\lib\\site-packages (from click>=8.1->dask>=2.22.0->modin[all]) (0.4.6)\n",
      "Requirement already satisfied: zipp>=0.5 in c:\\users\\nprab\\anaconda3\\lib\\site-packages (from importlib-metadata>=4.13.0->dask>=2.22.0->modin[all]) (3.17.0)\n",
      "Requirement already satisfied: ipykernel>=4.5.1 in c:\\users\\nprab\\anaconda3\\lib\\site-packages (from ipywidgets>=7.0.0->modin-spreadsheet>=0.1.0->modin[all]) (6.28.0)\n",
      "Requirement already satisfied: ipython-genutils~=0.2.0 in c:\\users\\nprab\\anaconda3\\lib\\site-packages (from ipywidgets>=7.0.0->modin-spreadsheet>=0.1.0->modin[all]) (0.2.0)\n",
      "Requirement already satisfied: traitlets>=4.3.1 in c:\\users\\nprab\\anaconda3\\lib\\site-packages (from ipywidgets>=7.0.0->modin-spreadsheet>=0.1.0->modin[all]) (5.7.1)\n",
      "Requirement already satisfied: nbformat>=4.2.0 in c:\\users\\nprab\\anaconda3\\lib\\site-packages (from ipywidgets>=7.0.0->modin-spreadsheet>=0.1.0->modin[all]) (5.9.2)\n",
      "Requirement already satisfied: widgetsnbextension~=3.5.0 in c:\\users\\nprab\\anaconda3\\lib\\site-packages (from ipywidgets>=7.0.0->modin-spreadsheet>=0.1.0->modin[all]) (3.5.2)\n",
      "Requirement already satisfied: ipython>=4.0.0 in c:\\users\\nprab\\anaconda3\\lib\\site-packages (from ipywidgets>=7.0.0->modin-spreadsheet>=0.1.0->modin[all]) (8.20.0)\n",
      "Requirement already satisfied: jupyterlab-widgets>=1.0.0 in c:\\users\\nprab\\anaconda3\\lib\\site-packages (from ipywidgets>=7.0.0->modin-spreadsheet>=0.1.0->modin[all]) (3.0.9)\n",
      "Requirement already satisfied: MarkupSafe>=2.0 in c:\\users\\nprab\\anaconda3\\lib\\site-packages (from jinja2>=2.10.3->distributed>=2.22.0->modin[all]) (2.1.3)\n",
      "Requirement already satisfied: qtconsole in c:\\users\\nprab\\anaconda3\\lib\\site-packages (from jupyter>=1.0.0->modin-spreadsheet>=0.1.0->modin[all]) (5.4.2)\n",
      "Requirement already satisfied: jupyter-console in c:\\users\\nprab\\anaconda3\\lib\\site-packages (from jupyter>=1.0.0->modin-spreadsheet>=0.1.0->modin[all]) (6.6.3)\n",
      "Requirement already satisfied: nbconvert in c:\\users\\nprab\\anaconda3\\lib\\site-packages (from jupyter>=1.0.0->modin-spreadsheet>=0.1.0->modin[all]) (7.10.0)\n",
      "Requirement already satisfied: jupyter-server<3,>=2.4.0 in c:\\users\\nprab\\anaconda3\\lib\\site-packages (from notebook>=6.0.3->modin-spreadsheet>=0.1.0->modin[all]) (2.10.0)\n",
      "Requirement already satisfied: jupyterlab-server<3,>=2.22.1 in c:\\users\\nprab\\anaconda3\\lib\\site-packages (from notebook>=6.0.3->modin-spreadsheet>=0.1.0->modin[all]) (2.25.1)\n",
      "Requirement already satisfied: jupyterlab<4.1,>=4.0.2 in c:\\users\\nprab\\anaconda3\\lib\\site-packages (from notebook>=6.0.3->modin-spreadsheet>=0.1.0->modin[all]) (4.0.11)\n",
      "Requirement already satisfied: notebook-shim<0.3,>=0.2 in c:\\users\\nprab\\anaconda3\\lib\\site-packages (from notebook>=6.0.3->modin-spreadsheet>=0.1.0->modin[all]) (0.2.3)\n",
      "Requirement already satisfied: six>=1.5 in c:\\users\\nprab\\anaconda3\\lib\\site-packages (from python-dateutil>=2.8.2->pandas<2.3,>=2.2->modin[all]) (1.16.0)\n",
      "Requirement already satisfied: attrs>=22.2.0 in c:\\users\\nprab\\anaconda3\\lib\\site-packages (from jsonschema->ray!=2.5.0,>=2.1.0->modin[all]) (24.2.0)\n",
      "Requirement already satisfied: jsonschema-specifications>=2023.03.6 in c:\\users\\nprab\\anaconda3\\lib\\site-packages (from jsonschema->ray!=2.5.0,>=2.1.0->modin[all]) (2023.7.1)\n",
      "Requirement already satisfied: referencing>=0.28.4 in c:\\users\\nprab\\anaconda3\\lib\\site-packages (from jsonschema->ray!=2.5.0,>=2.1.0->modin[all]) (0.30.2)\n",
      "Requirement already satisfied: rpds-py>=0.7.1 in c:\\users\\nprab\\anaconda3\\lib\\site-packages (from jsonschema->ray!=2.5.0,>=2.1.0->modin[all]) (0.10.6)\n",
      "Requirement already satisfied: charset-normalizer<4,>=2 in c:\\users\\nprab\\anaconda3\\lib\\site-packages (from requests->ray!=2.5.0,>=2.1.0->modin[all]) (2.0.4)\n",
      "Requirement already satisfied: idna<4,>=2.5 in c:\\users\\nprab\\anaconda3\\lib\\site-packages (from requests->ray!=2.5.0,>=2.1.0->modin[all]) (3.4)\n",
      "Requirement already satisfied: certifi>=2017.4.17 in c:\\users\\nprab\\anaconda3\\lib\\site-packages (from requests->ray!=2.5.0,>=2.1.0->modin[all]) (2024.7.4)\n",
      "Requirement already satisfied: comm>=0.1.1 in c:\\users\\nprab\\anaconda3\\lib\\site-packages (from ipykernel>=4.5.1->ipywidgets>=7.0.0->modin-spreadsheet>=0.1.0->modin[all]) (0.1.2)\n",
      "Requirement already satisfied: debugpy>=1.6.5 in c:\\users\\nprab\\anaconda3\\lib\\site-packages (from ipykernel>=4.5.1->ipywidgets>=7.0.0->modin-spreadsheet>=0.1.0->modin[all]) (1.6.7)\n",
      "Requirement already satisfied: jupyter-client>=6.1.12 in c:\\users\\nprab\\anaconda3\\lib\\site-packages (from ipykernel>=4.5.1->ipywidgets>=7.0.0->modin-spreadsheet>=0.1.0->modin[all]) (8.6.0)\n",
      "Requirement already satisfied: jupyter-core!=5.0.*,>=4.12 in c:\\users\\nprab\\anaconda3\\lib\\site-packages (from ipykernel>=4.5.1->ipywidgets>=7.0.0->modin-spreadsheet>=0.1.0->modin[all]) (5.5.0)\n",
      "Requirement already satisfied: matplotlib-inline>=0.1 in c:\\users\\nprab\\anaconda3\\lib\\site-packages (from ipykernel>=4.5.1->ipywidgets>=7.0.0->modin-spreadsheet>=0.1.0->modin[all]) (0.1.6)\n",
      "Requirement already satisfied: nest-asyncio in c:\\users\\nprab\\anaconda3\\lib\\site-packages (from ipykernel>=4.5.1->ipywidgets>=7.0.0->modin-spreadsheet>=0.1.0->modin[all]) (1.6.0)\n",
      "Requirement already satisfied: pyzmq>=24 in c:\\users\\nprab\\anaconda3\\lib\\site-packages (from ipykernel>=4.5.1->ipywidgets>=7.0.0->modin-spreadsheet>=0.1.0->modin[all]) (25.1.2)\n",
      "Requirement already satisfied: decorator in c:\\users\\nprab\\anaconda3\\lib\\site-packages (from ipython>=4.0.0->ipywidgets>=7.0.0->modin-spreadsheet>=0.1.0->modin[all]) (5.1.1)\n",
      "Requirement already satisfied: jedi>=0.16 in c:\\users\\nprab\\anaconda3\\lib\\site-packages (from ipython>=4.0.0->ipywidgets>=7.0.0->modin-spreadsheet>=0.1.0->modin[all]) (0.18.1)\n",
      "Requirement already satisfied: prompt-toolkit<3.1.0,>=3.0.41 in c:\\users\\nprab\\anaconda3\\lib\\site-packages (from ipython>=4.0.0->ipywidgets>=7.0.0->modin-spreadsheet>=0.1.0->modin[all]) (3.0.43)\n",
      "Requirement already satisfied: pygments>=2.4.0 in c:\\users\\nprab\\anaconda3\\lib\\site-packages (from ipython>=4.0.0->ipywidgets>=7.0.0->modin-spreadsheet>=0.1.0->modin[all]) (2.15.1)\n",
      "Requirement already satisfied: stack-data in c:\\users\\nprab\\anaconda3\\lib\\site-packages (from ipython>=4.0.0->ipywidgets>=7.0.0->modin-spreadsheet>=0.1.0->modin[all]) (0.2.0)\n",
      "Requirement already satisfied: anyio>=3.1.0 in c:\\users\\nprab\\anaconda3\\lib\\site-packages (from jupyter-server<3,>=2.4.0->notebook>=6.0.3->modin-spreadsheet>=0.1.0->modin[all]) (4.2.0)\n",
      "Requirement already satisfied: argon2-cffi in c:\\users\\nprab\\anaconda3\\lib\\site-packages (from jupyter-server<3,>=2.4.0->notebook>=6.0.3->modin-spreadsheet>=0.1.0->modin[all]) (21.3.0)\n",
      "Requirement already satisfied: jupyter-events>=0.6.0 in c:\\users\\nprab\\anaconda3\\lib\\site-packages (from jupyter-server<3,>=2.4.0->notebook>=6.0.3->modin-spreadsheet>=0.1.0->modin[all]) (0.8.0)\n",
      "Requirement already satisfied: jupyter-server-terminals in c:\\users\\nprab\\anaconda3\\lib\\site-packages (from jupyter-server<3,>=2.4.0->notebook>=6.0.3->modin-spreadsheet>=0.1.0->modin[all]) (0.4.4)\n",
      "Requirement already satisfied: overrides in c:\\users\\nprab\\anaconda3\\lib\\site-packages (from jupyter-server<3,>=2.4.0->notebook>=6.0.3->modin-spreadsheet>=0.1.0->modin[all]) (7.4.0)\n",
      "Requirement already satisfied: prometheus-client in c:\\users\\nprab\\anaconda3\\lib\\site-packages (from jupyter-server<3,>=2.4.0->notebook>=6.0.3->modin-spreadsheet>=0.1.0->modin[all]) (0.14.1)\n",
      "Requirement already satisfied: pywinpty in c:\\users\\nprab\\anaconda3\\lib\\site-packages (from jupyter-server<3,>=2.4.0->notebook>=6.0.3->modin-spreadsheet>=0.1.0->modin[all]) (2.0.10)\n",
      "Requirement already satisfied: send2trash>=1.8.2 in c:\\users\\nprab\\anaconda3\\lib\\site-packages (from jupyter-server<3,>=2.4.0->notebook>=6.0.3->modin-spreadsheet>=0.1.0->modin[all]) (1.8.2)\n",
      "Requirement already satisfied: terminado>=0.8.3 in c:\\users\\nprab\\anaconda3\\lib\\site-packages (from jupyter-server<3,>=2.4.0->notebook>=6.0.3->modin-spreadsheet>=0.1.0->modin[all]) (0.17.1)\n",
      "Requirement already satisfied: websocket-client in c:\\users\\nprab\\anaconda3\\lib\\site-packages (from jupyter-server<3,>=2.4.0->notebook>=6.0.3->modin-spreadsheet>=0.1.0->modin[all]) (1.8.0)\n",
      "Requirement already satisfied: async-lru>=1.0.0 in c:\\users\\nprab\\anaconda3\\lib\\site-packages (from jupyterlab<4.1,>=4.0.2->notebook>=6.0.3->modin-spreadsheet>=0.1.0->modin[all]) (2.0.4)\n",
      "Requirement already satisfied: jupyter-lsp>=2.0.0 in c:\\users\\nprab\\anaconda3\\lib\\site-packages (from jupyterlab<4.1,>=4.0.2->notebook>=6.0.3->modin-spreadsheet>=0.1.0->modin[all]) (2.2.0)\n",
      "Requirement already satisfied: babel>=2.10 in c:\\users\\nprab\\anaconda3\\lib\\site-packages (from jupyterlab-server<3,>=2.22.1->notebook>=6.0.3->modin-spreadsheet>=0.1.0->modin[all]) (2.11.0)\n",
      "Requirement already satisfied: json5>=0.9.0 in c:\\users\\nprab\\anaconda3\\lib\\site-packages (from jupyterlab-server<3,>=2.22.1->notebook>=6.0.3->modin-spreadsheet>=0.1.0->modin[all]) (0.9.6)\n",
      "Requirement already satisfied: beautifulsoup4 in c:\\users\\nprab\\anaconda3\\lib\\site-packages (from nbconvert->jupyter>=1.0.0->modin-spreadsheet>=0.1.0->modin[all]) (4.12.2)\n",
      "Requirement already satisfied: bleach!=5.0.0 in c:\\users\\nprab\\anaconda3\\lib\\site-packages (from nbconvert->jupyter>=1.0.0->modin-spreadsheet>=0.1.0->modin[all]) (4.1.0)\n",
      "Requirement already satisfied: defusedxml in c:\\users\\nprab\\anaconda3\\lib\\site-packages (from nbconvert->jupyter>=1.0.0->modin-spreadsheet>=0.1.0->modin[all]) (0.7.1)\n",
      "Requirement already satisfied: jupyterlab-pygments in c:\\users\\nprab\\anaconda3\\lib\\site-packages (from nbconvert->jupyter>=1.0.0->modin-spreadsheet>=0.1.0->modin[all]) (0.1.2)\n",
      "Requirement already satisfied: mistune<4,>=2.0.3 in c:\\users\\nprab\\anaconda3\\lib\\site-packages (from nbconvert->jupyter>=1.0.0->modin-spreadsheet>=0.1.0->modin[all]) (2.0.4)\n",
      "Requirement already satisfied: nbclient>=0.5.0 in c:\\users\\nprab\\anaconda3\\lib\\site-packages (from nbconvert->jupyter>=1.0.0->modin-spreadsheet>=0.1.0->modin[all]) (0.8.0)\n",
      "Requirement already satisfied: pandocfilters>=1.4.1 in c:\\users\\nprab\\anaconda3\\lib\\site-packages (from nbconvert->jupyter>=1.0.0->modin-spreadsheet>=0.1.0->modin[all]) (1.5.0)\n",
      "Requirement already satisfied: tinycss2 in c:\\users\\nprab\\anaconda3\\lib\\site-packages (from nbconvert->jupyter>=1.0.0->modin-spreadsheet>=0.1.0->modin[all]) (1.2.1)\n",
      "Requirement already satisfied: fastjsonschema in c:\\users\\nprab\\anaconda3\\lib\\site-packages (from nbformat>=4.2.0->ipywidgets>=7.0.0->modin-spreadsheet>=0.1.0->modin[all]) (2.16.2)\n",
      "Requirement already satisfied: qtpy>=2.0.1 in c:\\users\\nprab\\anaconda3\\lib\\site-packages (from qtconsole->jupyter>=1.0.0->modin-spreadsheet>=0.1.0->modin[all]) (2.4.1)\n",
      "Requirement already satisfied: sniffio>=1.1 in c:\\users\\nprab\\anaconda3\\lib\\site-packages (from anyio>=3.1.0->jupyter-server<3,>=2.4.0->notebook>=6.0.3->modin-spreadsheet>=0.1.0->modin[all]) (1.3.0)\n",
      "Requirement already satisfied: webencodings in c:\\users\\nprab\\anaconda3\\lib\\site-packages (from bleach!=5.0.0->nbconvert->jupyter>=1.0.0->modin-spreadsheet>=0.1.0->modin[all]) (0.5.1)\n",
      "Requirement already satisfied: parso<0.9.0,>=0.8.0 in c:\\users\\nprab\\anaconda3\\lib\\site-packages (from jedi>=0.16->ipython>=4.0.0->ipywidgets>=7.0.0->modin-spreadsheet>=0.1.0->modin[all]) (0.8.3)\n",
      "Requirement already satisfied: platformdirs>=2.5 in c:\\users\\nprab\\anaconda3\\lib\\site-packages (from jupyter-core!=5.0.*,>=4.12->ipykernel>=4.5.1->ipywidgets>=7.0.0->modin-spreadsheet>=0.1.0->modin[all]) (3.10.0)\n",
      "Requirement already satisfied: pywin32>=300 in c:\\users\\nprab\\anaconda3\\lib\\site-packages (from jupyter-core!=5.0.*,>=4.12->ipykernel>=4.5.1->ipywidgets>=7.0.0->modin-spreadsheet>=0.1.0->modin[all]) (305.1)\n",
      "Requirement already satisfied: python-json-logger>=2.0.4 in c:\\users\\nprab\\anaconda3\\lib\\site-packages (from jupyter-events>=0.6.0->jupyter-server<3,>=2.4.0->notebook>=6.0.3->modin-spreadsheet>=0.1.0->modin[all]) (2.0.7)\n",
      "Requirement already satisfied: rfc3339-validator in c:\\users\\nprab\\anaconda3\\lib\\site-packages (from jupyter-events>=0.6.0->jupyter-server<3,>=2.4.0->notebook>=6.0.3->modin-spreadsheet>=0.1.0->modin[all]) (0.1.4)\n",
      "Requirement already satisfied: rfc3986-validator>=0.1.1 in c:\\users\\nprab\\anaconda3\\lib\\site-packages (from jupyter-events>=0.6.0->jupyter-server<3,>=2.4.0->notebook>=6.0.3->modin-spreadsheet>=0.1.0->modin[all]) (0.1.1)\n",
      "Requirement already satisfied: wcwidth in c:\\users\\nprab\\anaconda3\\lib\\site-packages (from prompt-toolkit<3.1.0,>=3.0.41->ipython>=4.0.0->ipywidgets>=7.0.0->modin-spreadsheet>=0.1.0->modin[all]) (0.2.5)\n",
      "Requirement already satisfied: argon2-cffi-bindings in c:\\users\\nprab\\anaconda3\\lib\\site-packages (from argon2-cffi->jupyter-server<3,>=2.4.0->notebook>=6.0.3->modin-spreadsheet>=0.1.0->modin[all]) (21.2.0)\n",
      "Requirement already satisfied: soupsieve>1.2 in c:\\users\\nprab\\anaconda3\\lib\\site-packages (from beautifulsoup4->nbconvert->jupyter>=1.0.0->modin-spreadsheet>=0.1.0->modin[all]) (2.5)\n",
      "Requirement already satisfied: executing in c:\\users\\nprab\\anaconda3\\lib\\site-packages (from stack-data->ipython>=4.0.0->ipywidgets>=7.0.0->modin-spreadsheet>=0.1.0->modin[all]) (0.8.3)\n",
      "Requirement already satisfied: asttokens in c:\\users\\nprab\\anaconda3\\lib\\site-packages (from stack-data->ipython>=4.0.0->ipywidgets>=7.0.0->modin-spreadsheet>=0.1.0->modin[all]) (2.0.5)\n",
      "Requirement already satisfied: pure-eval in c:\\users\\nprab\\anaconda3\\lib\\site-packages (from stack-data->ipython>=4.0.0->ipywidgets>=7.0.0->modin-spreadsheet>=0.1.0->modin[all]) (0.2.2)\n",
      "Requirement already satisfied: fqdn in c:\\users\\nprab\\anaconda3\\lib\\site-packages (from jsonschema[format-nongpl]>=4.18.0->jupyter-events>=0.6.0->jupyter-server<3,>=2.4.0->notebook>=6.0.3->modin-spreadsheet>=0.1.0->modin[all]) (1.5.1)\n",
      "Requirement already satisfied: isoduration in c:\\users\\nprab\\anaconda3\\lib\\site-packages (from jsonschema[format-nongpl]>=4.18.0->jupyter-events>=0.6.0->jupyter-server<3,>=2.4.0->notebook>=6.0.3->modin-spreadsheet>=0.1.0->modin[all]) (20.11.0)\n",
      "Requirement already satisfied: jsonpointer>1.13 in c:\\users\\nprab\\anaconda3\\lib\\site-packages (from jsonschema[format-nongpl]>=4.18.0->jupyter-events>=0.6.0->jupyter-server<3,>=2.4.0->notebook>=6.0.3->modin-spreadsheet>=0.1.0->modin[all]) (2.1)\n",
      "Requirement already satisfied: uri-template in c:\\users\\nprab\\anaconda3\\lib\\site-packages (from jsonschema[format-nongpl]>=4.18.0->jupyter-events>=0.6.0->jupyter-server<3,>=2.4.0->notebook>=6.0.3->modin-spreadsheet>=0.1.0->modin[all]) (1.3.0)\n",
      "Requirement already satisfied: webcolors>=1.11 in c:\\users\\nprab\\anaconda3\\lib\\site-packages (from jsonschema[format-nongpl]>=4.18.0->jupyter-events>=0.6.0->jupyter-server<3,>=2.4.0->notebook>=6.0.3->modin-spreadsheet>=0.1.0->modin[all]) (24.8.0)\n",
      "Requirement already satisfied: cffi>=1.0.1 in c:\\users\\nprab\\anaconda3\\lib\\site-packages (from argon2-cffi-bindings->argon2-cffi->jupyter-server<3,>=2.4.0->notebook>=6.0.3->modin-spreadsheet>=0.1.0->modin[all]) (1.16.0)\n",
      "Requirement already satisfied: pycparser in c:\\users\\nprab\\anaconda3\\lib\\site-packages (from cffi>=1.0.1->argon2-cffi-bindings->argon2-cffi->jupyter-server<3,>=2.4.0->notebook>=6.0.3->modin-spreadsheet>=0.1.0->modin[all]) (2.21)\n",
      "Requirement already satisfied: arrow>=0.15.0 in c:\\users\\nprab\\anaconda3\\lib\\site-packages (from isoduration->jsonschema[format-nongpl]>=4.18.0->jupyter-events>=0.6.0->jupyter-server<3,>=2.4.0->notebook>=6.0.3->modin-spreadsheet>=0.1.0->modin[all]) (1.2.3)\n",
      "Note: you may need to restart the kernel to use updated packages.\n"
     ]
    }
   ],
   "source": [
    "pip install modin[all]"
   ]
  },
  {
   "cell_type": "code",
   "execution_count": null,
   "id": "675e909c-2ee2-4673-802e-f24f8e38869a",
   "metadata": {},
   "outputs": [],
   "source": [
    "import os\n",
    "#import pandas as pd\n",
    "import modin.pandas as pd\n",
    "from pathlib import Path\n",
    "#import numpy as np\n",
    "#import matplotlib.pyplot as plt\n",
    "#import seaborn as sns\n",
    "#pd.set_option('max_colwidth',400)"
   ]
  },
  {
   "cell_type": "code",
   "execution_count": 26,
   "id": "945b48e6-6a88-4b87-b923-d436b07ade3b",
   "metadata": {},
   "outputs": [
    {
     "ename": "Exception",
     "evalue": "The current node timed out during startup. This could happen because some of the Ray processes failed to startup.",
     "output_type": "error",
     "traceback": [
      "\u001b[1;31m---------------------------------------------------------------------------\u001b[0m",
      "\u001b[1;31mTimeoutError\u001b[0m                              Traceback (most recent call last)",
      "File \u001b[1;32m~\\anaconda3\\Lib\\site-packages\\ray\\_private\\node.py:342\u001b[0m, in \u001b[0;36mNode.__init__\u001b[1;34m(self, ray_params, head, shutdown_at_exit, spawn_reaper, connect_only, default_worker, ray_init_cluster)\u001b[0m\n\u001b[0;32m    341\u001b[0m \u001b[38;5;28;01mtry\u001b[39;00m:\n\u001b[1;32m--> 342\u001b[0m     ray\u001b[38;5;241m.\u001b[39m_private\u001b[38;5;241m.\u001b[39mservices\u001b[38;5;241m.\u001b[39mwait_for_node(\n\u001b[0;32m    343\u001b[0m         \u001b[38;5;28mself\u001b[39m\u001b[38;5;241m.\u001b[39mgcs_address,\n\u001b[0;32m    344\u001b[0m         \u001b[38;5;28mself\u001b[39m\u001b[38;5;241m.\u001b[39m_plasma_store_socket_name,\n\u001b[0;32m    345\u001b[0m     )\n\u001b[0;32m    346\u001b[0m \u001b[38;5;28;01mexcept\u001b[39;00m \u001b[38;5;167;01mTimeoutError\u001b[39;00m \u001b[38;5;28;01mas\u001b[39;00m te:\n",
      "File \u001b[1;32m~\\anaconda3\\Lib\\site-packages\\ray\\_private\\services.py:471\u001b[0m, in \u001b[0;36mwait_for_node\u001b[1;34m(gcs_address, node_plasma_store_socket_name, timeout)\u001b[0m\n\u001b[0;32m    470\u001b[0m         time\u001b[38;5;241m.\u001b[39msleep(\u001b[38;5;241m0.1\u001b[39m)\n\u001b[1;32m--> 471\u001b[0m \u001b[38;5;28;01mraise\u001b[39;00m \u001b[38;5;167;01mTimeoutError\u001b[39;00m(\n\u001b[0;32m    472\u001b[0m     \u001b[38;5;124mf\u001b[39m\u001b[38;5;124m\"\u001b[39m\u001b[38;5;124mTimed out after \u001b[39m\u001b[38;5;132;01m{\u001b[39;00mtimeout\u001b[38;5;132;01m}\u001b[39;00m\u001b[38;5;124m seconds while waiting for node to startup. \u001b[39m\u001b[38;5;124m\"\u001b[39m\n\u001b[0;32m    473\u001b[0m     \u001b[38;5;124mf\u001b[39m\u001b[38;5;124m\"\u001b[39m\u001b[38;5;124mDid not find socket name \u001b[39m\u001b[38;5;132;01m{\u001b[39;00mnode_plasma_store_socket_name\u001b[38;5;132;01m}\u001b[39;00m\u001b[38;5;124m in the list \u001b[39m\u001b[38;5;124m\"\u001b[39m\n\u001b[0;32m    474\u001b[0m     \u001b[38;5;124m\"\u001b[39m\u001b[38;5;124mof object store socket names.\u001b[39m\u001b[38;5;124m\"\u001b[39m\n\u001b[0;32m    475\u001b[0m )\n",
      "\u001b[1;31mTimeoutError\u001b[0m: Timed out after 60 seconds while waiting for node to startup. Did not find socket name tcp://127.0.0.1:62991 in the list of object store socket names.",
      "\nThe above exception was the direct cause of the following exception:\n",
      "\u001b[1;31mException\u001b[0m                                 Traceback (most recent call last)",
      "Cell \u001b[1;32mIn[26], line 1\u001b[0m\n\u001b[1;32m----> 1\u001b[0m remote_data \u001b[38;5;241m=\u001b[39m pd\u001b[38;5;241m.\u001b[39mread_csv(\u001b[38;5;124m\"\u001b[39m\u001b[38;5;124mC:/Users/nprab/OneDrive/Desktop/Remote-Work-and-Mental-Health/Impact_of_Remote_Work_on_Mental_Health.csv\u001b[39m\u001b[38;5;124m\"\u001b[39m)\n\u001b[0;32m      2\u001b[0m remote_data\u001b[38;5;241m.\u001b[39mhead()\n",
      "File \u001b[1;32m~\\anaconda3\\Lib\\site-packages\\modin\\utils.py:613\u001b[0m, in \u001b[0;36mexpanduser_path_arg.<locals>.decorator.<locals>.wrapped\u001b[1;34m(*args, **kw)\u001b[0m\n\u001b[0;32m    611\u001b[0m     \u001b[38;5;28;01melif\u001b[39;00m \u001b[38;5;28misinstance\u001b[39m(patharg, Path):\n\u001b[0;32m    612\u001b[0m         params\u001b[38;5;241m.\u001b[39marguments[argname] \u001b[38;5;241m=\u001b[39m patharg\u001b[38;5;241m.\u001b[39mexpanduser()\n\u001b[1;32m--> 613\u001b[0m     \u001b[38;5;28;01mreturn\u001b[39;00m func(\u001b[38;5;241m*\u001b[39mparams\u001b[38;5;241m.\u001b[39margs, \u001b[38;5;241m*\u001b[39m\u001b[38;5;241m*\u001b[39mparams\u001b[38;5;241m.\u001b[39mkwargs)\n\u001b[0;32m    614\u001b[0m \u001b[38;5;28;01mreturn\u001b[39;00m func(\u001b[38;5;241m*\u001b[39margs, \u001b[38;5;241m*\u001b[39m\u001b[38;5;241m*\u001b[39mkw)\n",
      "File \u001b[1;32m~\\anaconda3\\Lib\\site-packages\\modin\\logging\\logger_decorator.py:144\u001b[0m, in \u001b[0;36menable_logging.<locals>.decorator.<locals>.run_and_log\u001b[1;34m(*args, **kwargs)\u001b[0m\n\u001b[0;32m    129\u001b[0m \u001b[38;5;250m\u001b[39m\u001b[38;5;124;03m\"\"\"\u001b[39;00m\n\u001b[0;32m    130\u001b[0m \u001b[38;5;124;03mCompute function with logging if Modin logging is enabled.\u001b[39;00m\n\u001b[0;32m    131\u001b[0m \n\u001b[1;32m   (...)\u001b[0m\n\u001b[0;32m    141\u001b[0m \u001b[38;5;124;03mAny\u001b[39;00m\n\u001b[0;32m    142\u001b[0m \u001b[38;5;124;03m\"\"\"\u001b[39;00m\n\u001b[0;32m    143\u001b[0m \u001b[38;5;28;01mif\u001b[39;00m LogMode\u001b[38;5;241m.\u001b[39mget() \u001b[38;5;241m==\u001b[39m \u001b[38;5;124m\"\u001b[39m\u001b[38;5;124mdisable\u001b[39m\u001b[38;5;124m\"\u001b[39m:\n\u001b[1;32m--> 144\u001b[0m     \u001b[38;5;28;01mreturn\u001b[39;00m obj(\u001b[38;5;241m*\u001b[39margs, \u001b[38;5;241m*\u001b[39m\u001b[38;5;241m*\u001b[39mkwargs)\n\u001b[0;32m    146\u001b[0m logger \u001b[38;5;241m=\u001b[39m get_logger()\n\u001b[0;32m    147\u001b[0m logger\u001b[38;5;241m.\u001b[39mlog(log_level, start_line)\n",
      "File \u001b[1;32m~\\anaconda3\\Lib\\site-packages\\modin\\pandas\\io.py:226\u001b[0m, in \u001b[0;36mread_csv\u001b[1;34m(filepath_or_buffer, sep, delimiter, header, names, index_col, usecols, dtype, engine, converters, true_values, false_values, skipinitialspace, skiprows, skipfooter, nrows, na_values, keep_default_na, na_filter, verbose, skip_blank_lines, parse_dates, infer_datetime_format, keep_date_col, date_parser, date_format, dayfirst, cache_dates, iterator, chunksize, compression, thousands, decimal, lineterminator, quotechar, quoting, doublequote, escapechar, comment, encoding, encoding_errors, dialect, on_bad_lines, delim_whitespace, low_memory, memory_map, float_precision, storage_options, dtype_backend)\u001b[0m\n\u001b[0;32m    224\u001b[0m _, _, _, f_locals \u001b[38;5;241m=\u001b[39m inspect\u001b[38;5;241m.\u001b[39mgetargvalues(inspect\u001b[38;5;241m.\u001b[39mcurrentframe())\n\u001b[0;32m    225\u001b[0m kwargs \u001b[38;5;241m=\u001b[39m {k: v \u001b[38;5;28;01mfor\u001b[39;00m k, v \u001b[38;5;129;01min\u001b[39;00m f_locals\u001b[38;5;241m.\u001b[39mitems() \u001b[38;5;28;01mif\u001b[39;00m k \u001b[38;5;129;01min\u001b[39;00m _pd_read_csv_signature}\n\u001b[1;32m--> 226\u001b[0m \u001b[38;5;28;01mreturn\u001b[39;00m _read(\u001b[38;5;241m*\u001b[39m\u001b[38;5;241m*\u001b[39mkwargs)\n",
      "File \u001b[1;32m~\\anaconda3\\Lib\\site-packages\\modin\\pandas\\io.py:116\u001b[0m, in \u001b[0;36m_read\u001b[1;34m(**kwargs)\u001b[0m\n\u001b[0;32m    113\u001b[0m \u001b[38;5;28;01mfrom\u001b[39;00m \u001b[38;5;21;01mmodin\u001b[39;00m\u001b[38;5;21;01m.\u001b[39;00m\u001b[38;5;21;01mcore\u001b[39;00m\u001b[38;5;21;01m.\u001b[39;00m\u001b[38;5;21;01mexecution\u001b[39;00m\u001b[38;5;21;01m.\u001b[39;00m\u001b[38;5;21;01mdispatching\u001b[39;00m\u001b[38;5;21;01m.\u001b[39;00m\u001b[38;5;21;01mfactories\u001b[39;00m\u001b[38;5;21;01m.\u001b[39;00m\u001b[38;5;21;01mdispatcher\u001b[39;00m \u001b[38;5;28;01mimport\u001b[39;00m FactoryDispatcher\n\u001b[0;32m    115\u001b[0m squeeze \u001b[38;5;241m=\u001b[39m kwargs\u001b[38;5;241m.\u001b[39mpop(\u001b[38;5;124m\"\u001b[39m\u001b[38;5;124msqueeze\u001b[39m\u001b[38;5;124m\"\u001b[39m, \u001b[38;5;28;01mFalse\u001b[39;00m)\n\u001b[1;32m--> 116\u001b[0m pd_obj \u001b[38;5;241m=\u001b[39m FactoryDispatcher\u001b[38;5;241m.\u001b[39mread_csv(\u001b[38;5;241m*\u001b[39m\u001b[38;5;241m*\u001b[39mkwargs)\n\u001b[0;32m    117\u001b[0m \u001b[38;5;66;03m# This happens when `read_csv` returns a TextFileReader object for iterating through\u001b[39;00m\n\u001b[0;32m    118\u001b[0m \u001b[38;5;28;01mif\u001b[39;00m \u001b[38;5;28misinstance\u001b[39m(pd_obj, TextFileReader):\n",
      "File \u001b[1;32m~\\anaconda3\\Lib\\site-packages\\modin\\core\\execution\\dispatching\\factories\\dispatcher.py:207\u001b[0m, in \u001b[0;36mFactoryDispatcher.read_csv\u001b[1;34m(cls, **kwargs)\u001b[0m\n\u001b[0;32m    204\u001b[0m \u001b[38;5;129m@classmethod\u001b[39m\n\u001b[0;32m    205\u001b[0m \u001b[38;5;129m@_inherit_docstrings\u001b[39m(factories\u001b[38;5;241m.\u001b[39mBaseFactory\u001b[38;5;241m.\u001b[39m_read_csv)\n\u001b[0;32m    206\u001b[0m \u001b[38;5;28;01mdef\u001b[39;00m \u001b[38;5;21mread_csv\u001b[39m(\u001b[38;5;28mcls\u001b[39m, \u001b[38;5;241m*\u001b[39m\u001b[38;5;241m*\u001b[39mkwargs):\n\u001b[1;32m--> 207\u001b[0m     \u001b[38;5;28;01mreturn\u001b[39;00m \u001b[38;5;28mcls\u001b[39m\u001b[38;5;241m.\u001b[39mget_factory()\u001b[38;5;241m.\u001b[39m_read_csv(\u001b[38;5;241m*\u001b[39m\u001b[38;5;241m*\u001b[39mkwargs)\n",
      "File \u001b[1;32m~\\anaconda3\\Lib\\site-packages\\modin\\core\\execution\\dispatching\\factories\\dispatcher.py:115\u001b[0m, in \u001b[0;36mFactoryDispatcher.get_factory\u001b[1;34m(cls)\u001b[0m\n\u001b[0;32m    112\u001b[0m \u001b[38;5;28;01mif\u001b[39;00m \u001b[38;5;28mcls\u001b[39m\u001b[38;5;241m.\u001b[39m__factory \u001b[38;5;129;01mis\u001b[39;00m \u001b[38;5;28;01mNone\u001b[39;00m:\n\u001b[0;32m    113\u001b[0m     \u001b[38;5;28;01mfrom\u001b[39;00m \u001b[38;5;21;01mmodin\u001b[39;00m\u001b[38;5;21;01m.\u001b[39;00m\u001b[38;5;21;01mpandas\u001b[39;00m \u001b[38;5;28;01mimport\u001b[39;00m _update_engine\n\u001b[1;32m--> 115\u001b[0m     Engine\u001b[38;5;241m.\u001b[39msubscribe(_update_engine)\n\u001b[0;32m    116\u001b[0m     Engine\u001b[38;5;241m.\u001b[39msubscribe(\u001b[38;5;28mcls\u001b[39m\u001b[38;5;241m.\u001b[39m_update_factory)\n\u001b[0;32m    117\u001b[0m     StorageFormat\u001b[38;5;241m.\u001b[39msubscribe(\u001b[38;5;28mcls\u001b[39m\u001b[38;5;241m.\u001b[39m_update_factory)\n",
      "File \u001b[1;32m~\\anaconda3\\Lib\\site-packages\\modin\\config\\pubsub.py:295\u001b[0m, in \u001b[0;36mParameter.subscribe\u001b[1;34m(cls, callback)\u001b[0m\n\u001b[0;32m    286\u001b[0m \u001b[38;5;250m\u001b[39m\u001b[38;5;124;03m\"\"\"\u001b[39;00m\n\u001b[0;32m    287\u001b[0m \u001b[38;5;124;03mAdd `callback` to the `_subs` list and then execute it.\u001b[39;00m\n\u001b[0;32m    288\u001b[0m \n\u001b[1;32m   (...)\u001b[0m\n\u001b[0;32m    292\u001b[0m \u001b[38;5;124;03m    Callable to execute.\u001b[39;00m\n\u001b[0;32m    293\u001b[0m \u001b[38;5;124;03m\"\"\"\u001b[39;00m\n\u001b[0;32m    294\u001b[0m \u001b[38;5;28mcls\u001b[39m\u001b[38;5;241m.\u001b[39m_subs\u001b[38;5;241m.\u001b[39mappend(callback)\n\u001b[1;32m--> 295\u001b[0m callback(\u001b[38;5;28mcls\u001b[39m)\n",
      "File \u001b[1;32m~\\anaconda3\\Lib\\site-packages\\modin\\pandas\\__init__.py:123\u001b[0m, in \u001b[0;36m_update_engine\u001b[1;34m(publisher)\u001b[0m\n\u001b[0;32m    120\u001b[0m     \u001b[38;5;28;01mif\u001b[39;00m _is_first_update\u001b[38;5;241m.\u001b[39mget(\u001b[38;5;124m\"\u001b[39m\u001b[38;5;124mRay\u001b[39m\u001b[38;5;124m\"\u001b[39m, \u001b[38;5;28;01mTrue\u001b[39;00m):\n\u001b[0;32m    121\u001b[0m         \u001b[38;5;28;01mfrom\u001b[39;00m \u001b[38;5;21;01mmodin\u001b[39;00m\u001b[38;5;21;01m.\u001b[39;00m\u001b[38;5;21;01mcore\u001b[39;00m\u001b[38;5;21;01m.\u001b[39;00m\u001b[38;5;21;01mexecution\u001b[39;00m\u001b[38;5;21;01m.\u001b[39;00m\u001b[38;5;21;01mray\u001b[39;00m\u001b[38;5;21;01m.\u001b[39;00m\u001b[38;5;21;01mcommon\u001b[39;00m \u001b[38;5;28;01mimport\u001b[39;00m initialize_ray\n\u001b[1;32m--> 123\u001b[0m         initialize_ray()\n\u001b[0;32m    124\u001b[0m \u001b[38;5;28;01melif\u001b[39;00m publisher\u001b[38;5;241m.\u001b[39mget() \u001b[38;5;241m==\u001b[39m \u001b[38;5;124m\"\u001b[39m\u001b[38;5;124mDask\u001b[39m\u001b[38;5;124m\"\u001b[39m:\n\u001b[0;32m    125\u001b[0m     \u001b[38;5;28;01mif\u001b[39;00m _is_first_update\u001b[38;5;241m.\u001b[39mget(\u001b[38;5;124m\"\u001b[39m\u001b[38;5;124mDask\u001b[39m\u001b[38;5;124m\"\u001b[39m, \u001b[38;5;28;01mTrue\u001b[39;00m):\n",
      "File \u001b[1;32m~\\anaconda3\\Lib\\site-packages\\modin\\core\\execution\\ray\\common\\utils.py:139\u001b[0m, in \u001b[0;36minitialize_ray\u001b[1;34m(override_is_cluster, override_redis_address, override_redis_password)\u001b[0m\n\u001b[0;32m    132\u001b[0m         \u001b[38;5;66;03m# It should be enough to simply set the required variables for the main process\u001b[39;00m\n\u001b[0;32m    133\u001b[0m         \u001b[38;5;66;03m# for Ray to automatically propagate them to each new worker on the same node.\u001b[39;00m\n\u001b[0;32m    134\u001b[0m         \u001b[38;5;66;03m# Although Ray doesn't guarantee this behavior it works as expected most of the\u001b[39;00m\n\u001b[0;32m    135\u001b[0m         \u001b[38;5;66;03m# time and doesn't enforce us with any overhead that Ray's native `runtime_env`\u001b[39;00m\n\u001b[0;32m    136\u001b[0m         \u001b[38;5;66;03m# is usually causing. You can visit this gh-issue for more info:\u001b[39;00m\n\u001b[0;32m    137\u001b[0m         \u001b[38;5;66;03m# https://github.com/modin-project/modin/issues/5157#issuecomment-1500225150\u001b[39;00m\n\u001b[0;32m    138\u001b[0m         \u001b[38;5;28;01mwith\u001b[39;00m set_env(\u001b[38;5;241m*\u001b[39m\u001b[38;5;241m*\u001b[39menv_vars):\n\u001b[1;32m--> 139\u001b[0m             ray\u001b[38;5;241m.\u001b[39minit(\u001b[38;5;241m*\u001b[39m\u001b[38;5;241m*\u001b[39mray_init_kwargs)\n\u001b[0;32m    141\u001b[0m \u001b[38;5;66;03m# Now ray is initialized, check runtime env config - especially useful if we join\u001b[39;00m\n\u001b[0;32m    142\u001b[0m \u001b[38;5;66;03m# an externally pre-configured cluster\u001b[39;00m\n\u001b[0;32m    143\u001b[0m runtime_env_vars \u001b[38;5;241m=\u001b[39m ray\u001b[38;5;241m.\u001b[39mget_runtime_context()\u001b[38;5;241m.\u001b[39mruntime_env\u001b[38;5;241m.\u001b[39mget(\u001b[38;5;124m\"\u001b[39m\u001b[38;5;124menv_vars\u001b[39m\u001b[38;5;124m\"\u001b[39m, {})\n",
      "File \u001b[1;32m~\\anaconda3\\Lib\\site-packages\\ray\\_private\\client_mode_hook.py:103\u001b[0m, in \u001b[0;36mclient_mode_hook.<locals>.wrapper\u001b[1;34m(*args, **kwargs)\u001b[0m\n\u001b[0;32m    101\u001b[0m     \u001b[38;5;28;01mif\u001b[39;00m func\u001b[38;5;241m.\u001b[39m\u001b[38;5;18m__name__\u001b[39m \u001b[38;5;241m!=\u001b[39m \u001b[38;5;124m\"\u001b[39m\u001b[38;5;124minit\u001b[39m\u001b[38;5;124m\"\u001b[39m \u001b[38;5;129;01mor\u001b[39;00m is_client_mode_enabled_by_default:\n\u001b[0;32m    102\u001b[0m         \u001b[38;5;28;01mreturn\u001b[39;00m \u001b[38;5;28mgetattr\u001b[39m(ray, func\u001b[38;5;241m.\u001b[39m\u001b[38;5;18m__name__\u001b[39m)(\u001b[38;5;241m*\u001b[39margs, \u001b[38;5;241m*\u001b[39m\u001b[38;5;241m*\u001b[39mkwargs)\n\u001b[1;32m--> 103\u001b[0m \u001b[38;5;28;01mreturn\u001b[39;00m func(\u001b[38;5;241m*\u001b[39margs, \u001b[38;5;241m*\u001b[39m\u001b[38;5;241m*\u001b[39mkwargs)\n",
      "File \u001b[1;32m~\\anaconda3\\Lib\\site-packages\\ray\\_private\\worker.py:1679\u001b[0m, in \u001b[0;36minit\u001b[1;34m(address, num_cpus, num_gpus, resources, labels, object_store_memory, local_mode, ignore_reinit_error, include_dashboard, dashboard_host, dashboard_port, job_config, configure_logging, logging_level, logging_format, logging_config, log_to_driver, namespace, runtime_env, storage, **kwargs)\u001b[0m\n\u001b[0;32m   1646\u001b[0m     ray_params \u001b[38;5;241m=\u001b[39m ray\u001b[38;5;241m.\u001b[39m_private\u001b[38;5;241m.\u001b[39mparameter\u001b[38;5;241m.\u001b[39mRayParams(\n\u001b[0;32m   1647\u001b[0m         node_ip_address\u001b[38;5;241m=\u001b[39m_node_ip_address,\n\u001b[0;32m   1648\u001b[0m         object_ref_seed\u001b[38;5;241m=\u001b[39m\u001b[38;5;28;01mNone\u001b[39;00m,\n\u001b[1;32m   (...)\u001b[0m\n\u001b[0;32m   1673\u001b[0m         node_name\u001b[38;5;241m=\u001b[39m_node_name,\n\u001b[0;32m   1674\u001b[0m     )\n\u001b[0;32m   1675\u001b[0m     \u001b[38;5;66;03m# Start the Ray processes. We set shutdown_at_exit=False because we\u001b[39;00m\n\u001b[0;32m   1676\u001b[0m     \u001b[38;5;66;03m# shutdown the node in the ray.shutdown call that happens in the atexit\u001b[39;00m\n\u001b[0;32m   1677\u001b[0m     \u001b[38;5;66;03m# handler. We still spawn a reaper process in case the atexit handler\u001b[39;00m\n\u001b[0;32m   1678\u001b[0m     \u001b[38;5;66;03m# isn't called.\u001b[39;00m\n\u001b[1;32m-> 1679\u001b[0m     _global_node \u001b[38;5;241m=\u001b[39m ray\u001b[38;5;241m.\u001b[39m_private\u001b[38;5;241m.\u001b[39mnode\u001b[38;5;241m.\u001b[39mNode(\n\u001b[0;32m   1680\u001b[0m         ray_params\u001b[38;5;241m=\u001b[39mray_params,\n\u001b[0;32m   1681\u001b[0m         head\u001b[38;5;241m=\u001b[39m\u001b[38;5;28;01mTrue\u001b[39;00m,\n\u001b[0;32m   1682\u001b[0m         shutdown_at_exit\u001b[38;5;241m=\u001b[39m\u001b[38;5;28;01mFalse\u001b[39;00m,\n\u001b[0;32m   1683\u001b[0m         spawn_reaper\u001b[38;5;241m=\u001b[39m\u001b[38;5;28;01mTrue\u001b[39;00m,\n\u001b[0;32m   1684\u001b[0m         ray_init_cluster\u001b[38;5;241m=\u001b[39m\u001b[38;5;28;01mTrue\u001b[39;00m,\n\u001b[0;32m   1685\u001b[0m     )\n\u001b[0;32m   1686\u001b[0m \u001b[38;5;28;01melse\u001b[39;00m:\n\u001b[0;32m   1687\u001b[0m     \u001b[38;5;66;03m# In this case, we are connecting to an existing cluster.\u001b[39;00m\n\u001b[0;32m   1688\u001b[0m     \u001b[38;5;28;01mif\u001b[39;00m num_cpus \u001b[38;5;129;01mis\u001b[39;00m \u001b[38;5;129;01mnot\u001b[39;00m \u001b[38;5;28;01mNone\u001b[39;00m \u001b[38;5;129;01mor\u001b[39;00m num_gpus \u001b[38;5;129;01mis\u001b[39;00m \u001b[38;5;129;01mnot\u001b[39;00m \u001b[38;5;28;01mNone\u001b[39;00m:\n",
      "File \u001b[1;32m~\\anaconda3\\Lib\\site-packages\\ray\\_private\\node.py:347\u001b[0m, in \u001b[0;36mNode.__init__\u001b[1;34m(self, ray_params, head, shutdown_at_exit, spawn_reaper, connect_only, default_worker, ray_init_cluster)\u001b[0m\n\u001b[0;32m    342\u001b[0m     ray\u001b[38;5;241m.\u001b[39m_private\u001b[38;5;241m.\u001b[39mservices\u001b[38;5;241m.\u001b[39mwait_for_node(\n\u001b[0;32m    343\u001b[0m         \u001b[38;5;28mself\u001b[39m\u001b[38;5;241m.\u001b[39mgcs_address,\n\u001b[0;32m    344\u001b[0m         \u001b[38;5;28mself\u001b[39m\u001b[38;5;241m.\u001b[39m_plasma_store_socket_name,\n\u001b[0;32m    345\u001b[0m     )\n\u001b[0;32m    346\u001b[0m \u001b[38;5;28;01mexcept\u001b[39;00m \u001b[38;5;167;01mTimeoutError\u001b[39;00m \u001b[38;5;28;01mas\u001b[39;00m te:\n\u001b[1;32m--> 347\u001b[0m     \u001b[38;5;28;01mraise\u001b[39;00m \u001b[38;5;167;01mException\u001b[39;00m(\n\u001b[0;32m    348\u001b[0m         \u001b[38;5;124m\"\u001b[39m\u001b[38;5;124mThe current node timed out during startup. This \u001b[39m\u001b[38;5;124m\"\u001b[39m\n\u001b[0;32m    349\u001b[0m         \u001b[38;5;124m\"\u001b[39m\u001b[38;5;124mcould happen because some of the Ray processes \u001b[39m\u001b[38;5;124m\"\u001b[39m\n\u001b[0;32m    350\u001b[0m         \u001b[38;5;124m\"\u001b[39m\u001b[38;5;124mfailed to startup.\u001b[39m\u001b[38;5;124m\"\u001b[39m\n\u001b[0;32m    351\u001b[0m     ) \u001b[38;5;28;01mfrom\u001b[39;00m \u001b[38;5;21;01mte\u001b[39;00m\n\u001b[0;32m    352\u001b[0m node_info \u001b[38;5;241m=\u001b[39m ray\u001b[38;5;241m.\u001b[39m_private\u001b[38;5;241m.\u001b[39mservices\u001b[38;5;241m.\u001b[39mget_node(\n\u001b[0;32m    353\u001b[0m     \u001b[38;5;28mself\u001b[39m\u001b[38;5;241m.\u001b[39mgcs_address,\n\u001b[0;32m    354\u001b[0m     \u001b[38;5;28mself\u001b[39m\u001b[38;5;241m.\u001b[39m_node_id,\n\u001b[0;32m    355\u001b[0m )\n\u001b[0;32m    356\u001b[0m \u001b[38;5;28;01mif\u001b[39;00m \u001b[38;5;28mself\u001b[39m\u001b[38;5;241m.\u001b[39m_ray_params\u001b[38;5;241m.\u001b[39mnode_manager_port \u001b[38;5;241m==\u001b[39m \u001b[38;5;241m0\u001b[39m:\n",
      "\u001b[1;31mException\u001b[0m: The current node timed out during startup. This could happen because some of the Ray processes failed to startup."
     ]
    }
   ],
   "source": [
    "remote_data = pd.read_csv(\"C:/Users/nprab/OneDrive/Desktop/Remote-Work-and-Mental-Health/Impact_of_Remote_Work_on_Mental_Health.csv\")\n",
    "remote_data.head()"
   ]
  },
  {
   "cell_type": "code",
   "execution_count": null,
   "id": "822379ce-13c5-4642-bb85-8391af3bfb7a",
   "metadata": {},
   "outputs": [],
   "source": [
    "remote_data_load = Path('C:/Users/nprab/OneDrive/Desktop/Remote-Work-and-Mental-Health/Impact_of_Remote_Work_on_Mental_Health.csv')\n",
    "remote_data_load"
   ]
  },
  {
   "cell_type": "code",
   "execution_count": null,
   "id": "39c64be8-617c-4795-b0fe-7c5d213cb7b1",
   "metadata": {},
   "outputs": [],
   "source": [
    "remote_data = pd.read_csv(remote_data_load)\n",
    "remote_data"
   ]
  },
  {
   "cell_type": "code",
   "execution_count": null,
   "id": "9a34b250-dd34-45ab-b6cb-ec0f3075d157",
   "metadata": {},
   "outputs": [],
   "source": [
    "# remote_data_df = remote_data.str.replace('NaN','Healthy')\n",
    "# remote_data_df\n",
    "remote_data['Mental_Health_Condition'] = remote_data['Mental_Health_Condition'].fillna('Healthy')\n",
    "remote_data"
   ]
  },
  {
   "cell_type": "code",
   "execution_count": null,
   "id": "e26d1ea0-b8cf-43fe-ac8c-6a7c61a43f3f",
   "metadata": {},
   "outputs": [],
   "source": [
    "#remote_data.to_csv('challenges.csv', index=False)"
   ]
  },
  {
   "cell_type": "code",
   "execution_count": null,
   "id": "3e981ef9-68f4-41c2-bab6-c61ab50838d5",
   "metadata": {},
   "outputs": [],
   "source": [
    "\n",
    "#remote_data = pd.read_csv(\"./Resources/Impact_of_Remote_Work_on_Mental_Health.csv\")\n",
    "remote_data = pd.read_csv(\"C:/Users/nprab/OneDrive/Desktop/Remote-Work-and-Mental-Health/Resources/Resources/Impact_of_Remote_Work_on_Mental_Health.csv\")\n",
    "remote_data.head(10)"
   ]
  },
  {
   "cell_type": "code",
   "execution_count": null,
   "id": "69897924-70a5-4ab3-9dc7-fd9a29065149",
   "metadata": {},
   "outputs": [],
   "source": []
  },
  {
   "cell_type": "code",
   "execution_count": null,
   "id": "91b5e9a9-f70a-4bdb-a62c-28a376fd90aa",
   "metadata": {},
   "outputs": [],
   "source": [
    "remote_data.tail()"
   ]
  },
  {
   "cell_type": "code",
   "execution_count": null,
   "id": "aea30830-fc91-4112-ae68-f1dceda3ebb1",
   "metadata": {},
   "outputs": [],
   "source": [
    "remote_data.shape"
   ]
  },
  {
   "cell_type": "code",
   "execution_count": null,
   "id": "af5860fc-c78b-40ba-b20c-fad14426457f",
   "metadata": {},
   "outputs": [],
   "source": [
    "remote_data.columns"
   ]
  },
  {
   "cell_type": "code",
   "execution_count": null,
   "id": "14a0d187-80a7-4b31-b9af-f29d698e0854",
   "metadata": {},
   "outputs": [],
   "source": [
    "remote_data.info()"
   ]
  },
  {
   "cell_type": "code",
   "execution_count": null,
   "id": "9cb94f43-54bb-4b67-bde0-dcf636698d41",
   "metadata": {},
   "outputs": [],
   "source": [
    "remote_data.describe()"
   ]
  },
  {
   "cell_type": "code",
   "execution_count": null,
   "id": "ad6d548c-7eb3-492b-a89b-1b5cf8c61f3e",
   "metadata": {},
   "outputs": [],
   "source": [
    "remote_data.duplicated().sum()"
   ]
  },
  {
   "cell_type": "code",
   "execution_count": null,
   "id": "621abf60-c24a-4ca8-ad0c-ac12bcba4c07",
   "metadata": {},
   "outputs": [],
   "source": [
    "remote_data.isnull().sum()"
   ]
  },
  {
   "cell_type": "code",
   "execution_count": null,
   "id": "1a31156e-36c5-4fc0-b52c-bf8eede7ca86",
   "metadata": {},
   "outputs": [],
   "source": [
    "count_by_job_role = remote_data.groupby('Job_Role')['Gender'].count().reset_index(name='Employee_Count')\n",
    "count_by_job_role"
   ]
  },
  {
   "cell_type": "code",
   "execution_count": null,
   "id": "6535bd64-57f2-4907-9e6a-60270b6ed69b",
   "metadata": {},
   "outputs": [],
   "source": [
    "print(remote_data.columns)\n"
   ]
  },
  {
   "cell_type": "code",
   "execution_count": null,
   "id": "e7947d21-c55c-4fca-a962-72356403444e",
   "metadata": {},
   "outputs": [],
   "source": [
    "# Group by region and count the stress levels\n",
    "#stress_count = remote_data.groupby(['Region', 'Stress_Level']).size()#.unstack(fill_value=0)\n",
    "#region_stress_count = remote_data.groupby(['Region', 'Stress_Level']).size().reset_index(name = 'Count')\n",
    "\n",
    "region_stress_count = remote_data.groupby('Region')['Stress_Level'].size().reset_index(name = 'Count')\n",
    "\n",
    "# # Finding the region with the highest stress level count\n",
    "# highest_stress_region = region_stress_count.loc[region_stress_count['Count'].idxmax()]\n",
    "# print(highest_stress_region)\n",
    "\n",
    "# Display the results\n",
    "#print(stress_count)\n",
    "\n",
    "region_stress_count"
   ]
  },
  {
   "cell_type": "code",
   "execution_count": null,
   "id": "341496cc-9f3b-474e-9c05-3b5bd8405341",
   "metadata": {},
   "outputs": [],
   "source": [
    "sleepDf = remote_data.groupby(['Stress_Level', 'Sleep_Quality']).sum(numeric_only=True).reset_index()\n",
    "\n",
    "\n",
    "sleepDfbyCond = sleepDf[['Stress_Level', 'Sleep_Quality', 'Anxiety', 'Burnout', 'Depression', 'Healthy']]\n",
    "\n",
    "sleepDfbyCond['Total'] = sleepDfbyCond[['Anxiety', 'Burnout', 'Depression', 'Healthy']].sum(axis=1)\n",
    "\n",
    "sleepDfbyCond"
   ]
  },
  {
   "cell_type": "code",
   "execution_count": null,
   "id": "662bc114-88d9-4026-9f10-990feeef465f",
   "metadata": {},
   "outputs": [],
   "source": [
    "# region_stress = remote_data.groupby(['Region','Stress_Level']).sum(numeric_only=True).reset_index()\n",
    "# region_df = region_stress[['', '', '' , '']]\n",
    "\n",
    "#region_stress = remote_data.groupby(['Region','Stress_Level']).sum(numeric_only=True).reset_index()\n",
    "region_stress_count = remote_data.groupby('Region')['Stress_Level'].sum(numeric_only=True).reset_index(name='')\n",
    "region_stress"
   ]
  },
  {
   "cell_type": "code",
   "execution_count": null,
   "id": "c99c5216-beb5-4e60-b9b8-4a0bd40661ab",
   "metadata": {},
   "outputs": [],
   "source": [
    "region = pd.DataFrame(remote_data)\n",
    "#stress_count = region.groupby(['Region','Stress_Level']).size().unstack(fill_value=0)\n",
    "\n",
    "stress_count = remote_data.groupby(['Region', 'Stress_Level']).size().reset_index(name='count')\n",
    "#stress_count = remote_data.groupby(['Region', 'Stress_Level']).sum(numeric_only=True).reset_index()\n",
    "#stress_count = remote_data.groupby(['Region', 'Stress_Level']).size().unstack(fill_value=0).reset_index()\n",
    "stress_count"
   ]
  },
  {
   "cell_type": "code",
   "execution_count": null,
   "id": "85415c02-f6d5-4410-a924-a8eb42aa78d7",
   "metadata": {},
   "outputs": [],
   "source": [
    "data = {\n",
    "    'Region': ['Africa', 'Asia', 'Europe', 'North America', \n",
    "               'Oceania', 'South America'],\n",
    "    'High': [310 , 252, 298, 256,  282 ,288],\n",
    "    'Low' :[282, 281, 261, 266, 291, 264],\n",
    "    'Medium' : [268, 296, 281, 255, 294, 275]    \n",
    "}\n",
    "region_stress = pd.DataFrame(data)\n",
    "region_stress\n",
    "#print(remote_data)"
   ]
  },
  {
   "cell_type": "code",
   "execution_count": null,
   "id": "47e20f9b-b7ba-49be-819e-7afb3b0d7642",
   "metadata": {},
   "outputs": [],
   "source": [
    "industry = pd.DataFrame(remote_data)\n",
    "industry_stress = industry.groupby(['Industry','Stress_Level']).size().reset_index(name = 'Count')\n",
    "#print(dept)\n",
    "industry_stress"
   ]
  },
  {
   "cell_type": "code",
   "execution_count": null,
   "id": "3af85841-9743-4dd7-9d4d-aae9f6af673f",
   "metadata": {},
   "outputs": [],
   "source": [
    "data = pd.DataFrame(remote_data)\n",
    "dept = data.groupby(['Industry','Stress_Level']).size().unstack(fill_value = 0)#.reset_index(name = 'Count')\n",
    "#print(dept)\n",
    "dept"
   ]
  },
  {
   "cell_type": "code",
   "execution_count": null,
   "id": "c680fe61-3547-474d-9be0-b25c880ba88e",
   "metadata": {},
   "outputs": [],
   "source": [
    "# Assuming 'remote_data' is your initial data\n",
    "data = pd.DataFrame(remote_data)\n",
    "\n",
    "# Group by 'Industry' and 'Stress_Level', then count occurrences\n",
    "dept = data.groupby(['Industry', 'Stress_Level']).size().unstack(fill_value=0)\n",
    "\n",
    "# Print the results\n",
    "#print(dept)\n",
    "dept"
   ]
  },
  {
   "cell_type": "code",
   "execution_count": null,
   "id": "b45b21dd-a67e-4448-a453-5c1c94851c02",
   "metadata": {},
   "outputs": [],
   "source": [
    "# Find the industry with the highest count for each stress level\n",
    "high_stress_industry = dept['High'].idxmax()\n",
    "medium_stress_industry = dept['Medium'].idxmax()\n",
    "low_stress_industry = dept['Low'].idxmax()\n",
    "\n",
    "# # # Print the results\n",
    "# print(f\"Industry with highest stress level: {high_stress_industry}\")\n",
    "# print(f\"Industry with medium stress level: {medium_stress_industry}\")\n",
    "# print(f\"Industry with lowest stress level: {low_stress_industry}\")\n",
    "\n",
    "# Create a DataFrame to hold the results\n",
    "stress_level_summary = pd.DataFrame({\n",
    "    'Stress Level': ['High', 'Medium', 'Low'],\n",
    "    'Industry': [high_stress_industry, medium_stress_industry, low_stress_industry]\n",
    "})\n",
    "\n",
    "# Print the summary DataFrame\n",
    "#print(stress_level_summary)\n",
    "stress_level_summary\n"
   ]
  },
  {
   "cell_type": "code",
   "execution_count": null,
   "id": "94aea0fd-6ee0-4a85-954f-298503411148",
   "metadata": {},
   "outputs": [],
   "source": []
  },
  {
   "cell_type": "code",
   "execution_count": null,
   "id": "aeb0fb30-52de-4dc2-8a25-fa7f50fef9bb",
   "metadata": {},
   "outputs": [],
   "source": [
    "print(f\"Industry with highest stress level: {high_stress_industry}\")"
   ]
  },
  {
   "cell_type": "code",
   "execution_count": null,
   "id": "1e3af836-f7d9-41af-ae30-86292412306e",
   "metadata": {},
   "outputs": [],
   "source": [
    "#Find the industry with the highest count of high stress levels\n",
    "high_stress_industry = dept['High'].idxmax()\n",
    "high_stress_count = dept['High'].max()\n",
    "\n",
    "# Print the result\n",
    "print(f\"Industry with the highest stress level: {high_stress_industry} (Count: {high_stress_count})\")"
   ]
  },
  {
   "cell_type": "code",
   "execution_count": null,
   "id": "c9ab51f4-df6c-4a0d-8847-1f91086968a7",
   "metadata": {},
   "outputs": [],
   "source": [
    "ind_stress = {\n",
    "    'Industry': ['Consulting', 'Education', 'Finance', 'Healthcare', 'IT', 'Manufacturing', \n",
    "               'Retail'],\n",
    "    \n",
    "    'High': [219, 238, 266, 257, 243, 215, 248 ],\n",
    "    'Low' : [226, 205, 248, 231, 263, 229, 243],\n",
    "    'Medium' : [235, 247, 233, 240, 240, 239, 235]\n",
    "}\n",
    "\n",
    "# Create DataFrame\n",
    "df = pd.DataFrame(ind_stress)\n",
    "\n",
    "# Display the DataFrame\n",
    "df"
   ]
  },
  {
   "cell_type": "code",
   "execution_count": null,
   "id": "cab7a56e-513a-4f26-93af-ccb3fd148b53",
   "metadata": {},
   "outputs": [],
   "source": [
    "\n",
    "import pandas as pd\n",
    "\n",
    "# Create data as a dictionary\n",
    "data = {\n",
    "    'Region': ['Africa', 'Africa', 'Africa', 'Asia', 'Asia', 'Asia', \n",
    "               'Europe', 'Europe', 'Europe', 'North America', 'North America', 'North America', \n",
    "               'Oceania', 'Oceania', 'Oceania', 'South America', 'South America', 'South America'],\n",
    "    'Stress_Level': ['High', 'Low', 'Medium', 'High', 'Low', 'Medium', \n",
    "                     'High', 'Low', 'Medium', 'High', 'Low', 'Medium', \n",
    "                     'High', 'Low', 'Medium', 'High', 'Low', 'Medium'],\n",
    "    'Value': [310, 282, 268, 252, 281, 296, 298, 261, 281, 256, 266, 255, \n",
    "              282, 291, 294, 288, 264, 275]\n",
    "}\n",
    "\n",
    "# Create DataFrame\n",
    "df = pd.DataFrame(data)\n",
    "\n",
    "# Display the DataFrame\n",
    "print(df)"
   ]
  },
  {
   "cell_type": "code",
   "execution_count": null,
   "id": "91c4358e-720f-4a15-b34b-9eabfd43a04f",
   "metadata": {},
   "outputs": [],
   "source": [
    "# Group by 'Industry' and calculate the average hours worked per week\n",
    "\n",
    "Hours_Per_Week = pd.DataFrame(remote_data)\n",
    "Hours_Per_Week = Hours_Per_Week.groupby('Industry')['Hours_Worked_Per_Week'].mean().reset_index()\n",
    "Hours_Per_Week"
   ]
  },
  {
   "cell_type": "code",
   "execution_count": null,
   "id": "55332be5-700e-4181-923f-a511a8365c44",
   "metadata": {},
   "outputs": [],
   "source": [
    "#Renaming the column\n",
    "\n",
    "Average_Hours_Week = Hours_Per_Week.rename(columns={'Hours_Worked_Per_Week': 'Average_Hours_Week'})\n",
    "Average_Hours_Week"
   ]
  },
  {
   "cell_type": "code",
   "execution_count": null,
   "id": "9df0df64-7040-4c0b-9e6d-513d08020790",
   "metadata": {},
   "outputs": [],
   "source": [
    "# Sort the DataFrame from highest to lowest average hours\n",
    "\n",
    "Average_Hours_Week_sort = Average_Hours_Week.sort_values(by = 'Average_Hours_Week' ,ascending = False )#.reset_index()\n",
    "Average_Hours_Week_sort"
   ]
  },
  {
   "cell_type": "code",
   "execution_count": null,
   "id": "7c378117-6d63-47a7-92cb-800baf437493",
   "metadata": {},
   "outputs": [],
   "source": [
    "remote_data.columns"
   ]
  },
  {
   "cell_type": "code",
   "execution_count": null,
   "id": "bdf8a21e-60fd-412a-9a43-f14d58c6a480",
   "metadata": {},
   "outputs": [],
   "source": [
    "Avg_industry = pd.DataFrame(remote_data)\n",
    "\n",
    "\n",
    "# Create DataFrame\n",
    "#df = pd.DataFrame(remote_data)\n",
    "\n",
    "# Convert Stress_Level to a categorical type and set the order\n",
    "Avg_industry['Stress_Level'] = pd.Categorical(df['Stress_Level'], categories=['Low', 'Medium', 'High'], ordered=True)\n",
    "Avg_industry['Stress_Level']\n",
    "\n",
    "# Convert Stress_Level to numeric\n",
    "Avg_industry['Stress_Level_Numeric'] = Avg_industry['Stress_Level'].cat.codes\n",
    "Avg_industry['Stress_Level_Numeric']\n",
    "\n",
    "# # Group by Industry and calculate the average stress level\n",
    "Stress_Avg_industry = Avg_industry.groupby('Industry')['Stress_Level_Numeric'].mean().reset_index()\n",
    "Stress_Avg_industry\n",
    "# # Rename the column for clarity\n",
    "# Stress_Avg_industry.rename(columns={'Stress_Level_Numeric': 'Average_Stress_Level'}, inplace=True)\n",
    "# Stress_Avg_industry = Stress_Avg_industry.groupby('Industry')['Stress_Level'].mean().reset_index()\n",
    "# Stress_Avg_industry"
   ]
  },
  {
   "cell_type": "code",
   "execution_count": null,
   "id": "78b7460a-e36d-42cd-9aa6-6144afab69b2",
   "metadata": {},
   "outputs": [],
   "source": [
    "mental_condn = pd.DataFrame(remote_data)\n",
    "job_role = mental_condn.groupby('Job_Role')['Mental_Health_Condition']\n",
    "job_role"
   ]
  },
  {
   "cell_type": "code",
   "execution_count": null,
   "id": "792294ed-0c7e-4869-86ea-21e06ed05a0a",
   "metadata": {},
   "outputs": [],
   "source": [
    "# Replace the mental health conditions with numeric values\n",
    "mental_condn['Mental_Health_value'] = mental_condn['Mental_Health_Condition'].replace({\n",
    "    'Depression': 1,\n",
    "    'Anxiety': 2,\n",
    "    'Burnout': 3,\n",
    "    'Not Available': 4\n",
    "})\n",
    "\n",
    "# Now group by 'Job_Role' and calculate the mean of the new 'Mental_Health_Score'\n",
    "job_role_stats = mental_condn.groupby('Job_Role')['Mental_Health_value'].mean().reset_index(name = 'count')\n",
    "\n",
    "# Sort the results to find the worst job role\n",
    "worst_job_role = job_role_stats.sort_values(by='Job_Role')\n",
    "\n",
    "# Print the job role with the worst mental health condition\n",
    "#print(worst_job_role)\n",
    "worst_job_role"
   ]
  },
  {
   "cell_type": "code",
   "execution_count": null,
   "id": "29b09695-11c4-4c28-b254-360ec4d1b01c",
   "metadata": {},
   "outputs": [],
   "source": [
    "remote_data['Mental_Health_Condition'].unique()"
   ]
  },
  {
   "cell_type": "code",
   "execution_count": null,
   "id": "57a9a60a-5514-4d30-a561-76f092736cf8",
   "metadata": {},
   "outputs": [],
   "source": [
    "# industry_loc_mental_health = industry_remote.groupby(['Work_Location','Mental_Health_Condition']).size().unstack(fill_value=0)\n",
    "# industry_loc_mental_health\n",
    "\n",
    "# industry_loc_mental_health = remote_data.groupby(['Work_Location','Mental_Health_Condition']).size().unstack(fill_value=0)\n",
    "# industry_loc_mental_health\n",
    "\n",
    "industry_loc_mental_health = remote_data.groupby('Work_Location')['Mental_Health_Condition'].size()\n",
    "industry_loc_mental_health\n",
    "# Reset the index to convert the multi-index DataFrame into a regular DataFrame\n",
    "#industry_loc_mental_health_reset = industry_loc_mental_health.reset_index()\n",
    "\n",
    "# Now, you can drop the 'Mental_Health_Condition' column\n",
    "\n",
    "\n",
    "#industry_loc_mental_health_cleaned = industry_loc_mental_health_reset.drop(columns=['Mental_Health_Condition'], errors='ignore')\n",
    "\n",
    "\n",
    "# Display the cleaned DataFrame\n",
    "#print(industry_loc_mental_health_cleaned)\n",
    "\n",
    "industry_loc_mental_health_cleaned"
   ]
  },
  {
   "cell_type": "code",
   "execution_count": null,
   "id": "23991b71-2202-41e6-8d19-3e645adba736",
   "metadata": {},
   "outputs": [],
   "source": [
    "# industry_loc_mental_health = remote_data.groupby(['Work_Location','Mental_Health_Condition']).sum(numeric_only=True).reset_index()\n",
    "# industry_loc_mental_health"
   ]
  },
  {
   "cell_type": "code",
   "execution_count": null,
   "id": "ecdd9dcd-a0c1-49e8-87c3-9409b8d3f857",
   "metadata": {},
   "outputs": [],
   "source": [
    "Mental_Health = {\n",
    "    'Work_Location': ['Hybrid', 'Onsite', 'Remote'],\n",
    "    'Anxiety': [428, 407, 443],\n",
    "    'Burnout': [400, 442, 438],\n",
    "    'Depression': [421, 412, 413],\n",
    "    'Healthy': [400, 376, 420]\n",
    "}\n",
    "\n",
    "Mental_Health_df = pd.DataFrame(Mental_Health)\n",
    "\n",
    "# Set Work_Location as the index\n",
    "#Mental_Health_df.set_index('Work_Location', inplace=True)\n",
    "Mental_Health_df.set_index('Work_Location',inplace=True)\n",
    "\n",
    "\n",
    "# Calculate the total counts for each work location\n",
    "Mental_Health_df['Total'] = Mental_Health_df.sum(axis=1)\n",
    "\n",
    "\n",
    "print(f\"The most affected location is: {most_affected_location} with a total count of {most_affected_count}\")\n"
   ]
  },
  {
   "cell_type": "code",
   "execution_count": null,
   "id": "4b915478-a228-4754-bff9-d36bb88b671a",
   "metadata": {},
   "outputs": [],
   "source": [
    "# Create a DataFrame with the provided data\n",
    "Mental_Health = {\n",
    "    'Work_Location': ['Hybrid', 'Onsite', 'Remote'],\n",
    "    'Anxiety': [428, 407, 443],\n",
    "    'Burnout': [400, 442, 438],\n",
    "    'Depression': [421, 412, 413],\n",
    "    'Healthy': [400, 376, 420]\n",
    "}\n",
    "\n",
    "Mental_Health_df = pd.DataFrame(Mental_Health)\n",
    "\n",
    "# Set Work_Location as the index\n",
    "#Mental_Health_df.set_index('Work_Location', inplace=True)\n",
    "Mental_Health_df.set_index('Work_Location',inplace=True)\n",
    "\n",
    "\n",
    "# Calculate the total counts for each work location\n",
    "Mental_Health_df['Total'] = Mental_Health_df.sum(axis=1)\n",
    "\n",
    "# Find the location with the highest total count\n",
    "most_affected_location = Mental_Health_df['Total'].idxmax()\n",
    "most_affected_count = Mental_Health_df['Total'].max()\n",
    "# most_affected_count\n",
    "\n",
    "print(f\"The most affected location is: {most_affected_location} with a total count of {most_affected_count}\")\n",
    "\n",
    "# # Optionally, you can also find which condition is most prevalent in each location\n",
    "# most_prevalent_condition = df[['Anxiety', 'Burnout', 'Depression', 'Not Available']].idxmax(axis=1)\n",
    "# print(\"\\nMost prevalent mental health condition in each location:\")\n",
    "# #print(most_prevalent_condition)\n",
    "# most_prevalent_condition"
   ]
  },
  {
   "cell_type": "code",
   "execution_count": null,
   "id": "8c742e98-f7f0-4fce-af39-867f066cef70",
   "metadata": {},
   "outputs": [],
   "source": [
    "# Replace the mental health conditions with numeric values\n",
    "mental_condn['Mental_Health_value'] = mental_condn['Mental_Health_Condition'].replace({\n",
    "    'Depression': 1,\n",
    "    'Anxiety': 2,\n",
    "    'Burnout': 3,\n",
    "    'Not Available': 4\n",
    "})\n",
    "\n",
    "# Now group by 'Job_Role' and calculate the mean of the new 'Mental_Health_Score'\n",
    "job_role_stats = mental_condn.groupby('Work_Location')['Mental_Health_value'].mean().reset_index(name = 'count')\n",
    "\n",
    "# Sort the results to find the worst job role\n",
    "worst_job_loc = job_role_stats.sort_values(by='Work_Location')\n",
    "\n",
    "# Print the job role with the worst mental health condition\n",
    "#print(worst_job_role)\n",
    "worst_job_loc"
   ]
  },
  {
   "cell_type": "code",
   "execution_count": null,
   "id": "3d9385c4-1db6-4bf0-ab01-415be2291830",
   "metadata": {},
   "outputs": [],
   "source": [
    "# Replace the mental health conditions with numeric values\n",
    "mental_condn['Mental_Health_value'] = mental_condn['Mental_Health_Condition'].replace({\n",
    "    'Depression': 1,\n",
    "    'Anxiety': 2,\n",
    "    'Burnout': 3,\n",
    "    'Not Available': 4\n",
    "})\n",
    "\n",
    "# Now group by 'Job_Role' and calculate the mean of the new 'Mental_Health_Score'\n",
    "job_role_stats = mental_condn.groupby('Work_Location')['Mental_Health_value'].size().reset_index(name = 'count')\n",
    "\n",
    "# Sort the results to find the worst job role\n",
    "worst_job_loc = job_role_stats.sort_values(by='Work_Location')\n",
    "\n",
    "# Print the job role with the worst mental health condition\n",
    "#print(worst_job_role)\n",
    "worst_job_loc"
   ]
  },
  {
   "cell_type": "code",
   "execution_count": null,
   "id": "511f2dc2-1495-4bc8-8e96-b4324f1a8e41",
   "metadata": {},
   "outputs": [],
   "source": [
    "# Reset the index to convert the multi-index DataFrame into a regular DataFrame\n",
    "industry_loc_mental_health_reset = industry_loc_mental_health.reset_index()\n",
    "\n",
    "# Now, you can drop the 'Mental_Health_Condition' column\n",
    "industry_loc_mental_health_cleaned = industry_loc_mental_health_reset.drop(columns=['Mental_Health_Condition'], errors='ignore')\n",
    "\n",
    "# Display the cleaned DataFrame\n",
    "print(industry_loc_mental_health_cleaned)"
   ]
  },
  {
   "cell_type": "code",
   "execution_count": null,
   "id": "d73d38eb-3e5d-4148-b0aa-cd9c39c19ec7",
   "metadata": {},
   "outputs": [],
   "source": []
  }
 ],
 "metadata": {
  "kernelspec": {
   "display_name": "Python 3 (ipykernel)",
   "language": "python",
   "name": "python3"
  },
  "language_info": {
   "codemirror_mode": {
    "name": "ipython",
    "version": 3
   },
   "file_extension": ".py",
   "mimetype": "text/x-python",
   "name": "python",
   "nbconvert_exporter": "python",
   "pygments_lexer": "ipython3",
   "version": "3.11.7"
  }
 },
 "nbformat": 4,
 "nbformat_minor": 5
}
